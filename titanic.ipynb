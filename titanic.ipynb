{
 "metadata": {
  "language_info": {
   "codemirror_mode": {
    "name": "ipython",
    "version": 3
   },
   "file_extension": ".py",
   "mimetype": "text/x-python",
   "name": "python",
   "nbconvert_exporter": "python",
   "pygments_lexer": "ipython3",
   "version": "3.5.5-final"
  },
  "orig_nbformat": 2,
  "kernelspec": {
   "name": "python3",
   "display_name": "Python 3",
   "language": "python"
  }
 },
 "nbformat": 4,
 "nbformat_minor": 2,
 "cells": [
  {
   "cell_type": "code",
   "execution_count": 1,
   "metadata": {},
   "outputs": [],
   "source": [
    "# 預測鐵達尼號乘客存活率\n",
    "# 載入下載 lib\n",
    "import urllib.request\n",
    "import os"
   ]
  },
  {
   "cell_type": "code",
   "execution_count": 2,
   "metadata": {},
   "outputs": [],
   "source": [
    "url = \"https://raw.githubusercontent.com/joanby/python-ml-course/master/datasets/titanic/titanic3.xls\"\n",
    "filepath= \"C:/Users/tom83615/Downloads/titanic3.xls\"\n",
    "if not os.path.isfile(filepath):\n",
    "    result = urllib.request.urlretrieve(url, filepath)\n",
    "    print(\"Download: \", result)"
   ]
  },
  {
   "cell_type": "code",
   "execution_count": 3,
   "metadata": {},
   "outputs": [],
   "source": [
    "# 載入分析模組\n",
    "import numpy as np\n",
    "import pandas as pd\n",
    "all_df = pd.read_excel(filepath)"
   ]
  },
  {
   "cell_type": "code",
   "execution_count": 4,
   "metadata": {},
   "outputs": [
    {
     "output_type": "execute_result",
     "data": {
      "text/html": "<div>\n<style scoped>\n    .dataframe tbody tr th:only-of-type {\n        vertical-align: middle;\n    }\n\n    .dataframe tbody tr th {\n        vertical-align: top;\n    }\n\n    .dataframe thead th {\n        text-align: right;\n    }\n</style>\n<table border=\"1\" class=\"dataframe\">\n  <thead>\n    <tr style=\"text-align: right;\">\n      <th></th>\n      <th>pclass</th>\n      <th>survived</th>\n      <th>name</th>\n      <th>sex</th>\n      <th>age</th>\n      <th>sibsp</th>\n      <th>parch</th>\n      <th>ticket</th>\n      <th>fare</th>\n      <th>cabin</th>\n      <th>embarked</th>\n      <th>boat</th>\n      <th>body</th>\n      <th>home.dest</th>\n    </tr>\n  </thead>\n  <tbody>\n    <tr>\n      <th>0</th>\n      <td>1</td>\n      <td>1</td>\n      <td>Allen, Miss. Elisabeth Walton</td>\n      <td>female</td>\n      <td>29.0000</td>\n      <td>0</td>\n      <td>0</td>\n      <td>24160</td>\n      <td>211.3375</td>\n      <td>B5</td>\n      <td>S</td>\n      <td>2</td>\n      <td>NaN</td>\n      <td>St Louis, MO</td>\n    </tr>\n    <tr>\n      <th>1</th>\n      <td>1</td>\n      <td>1</td>\n      <td>Allison, Master. Hudson Trevor</td>\n      <td>male</td>\n      <td>0.9167</td>\n      <td>1</td>\n      <td>2</td>\n      <td>113781</td>\n      <td>151.5500</td>\n      <td>C22 C26</td>\n      <td>S</td>\n      <td>11</td>\n      <td>NaN</td>\n      <td>Montreal, PQ / Chesterville, ON</td>\n    </tr>\n    <tr>\n      <th>2</th>\n      <td>1</td>\n      <td>0</td>\n      <td>Allison, Miss. Helen Loraine</td>\n      <td>female</td>\n      <td>2.0000</td>\n      <td>1</td>\n      <td>2</td>\n      <td>113781</td>\n      <td>151.5500</td>\n      <td>C22 C26</td>\n      <td>S</td>\n      <td>NaN</td>\n      <td>NaN</td>\n      <td>Montreal, PQ / Chesterville, ON</td>\n    </tr>\n    <tr>\n      <th>3</th>\n      <td>1</td>\n      <td>0</td>\n      <td>Allison, Mr. Hudson Joshua Creighton</td>\n      <td>male</td>\n      <td>30.0000</td>\n      <td>1</td>\n      <td>2</td>\n      <td>113781</td>\n      <td>151.5500</td>\n      <td>C22 C26</td>\n      <td>S</td>\n      <td>NaN</td>\n      <td>135.0</td>\n      <td>Montreal, PQ / Chesterville, ON</td>\n    </tr>\n    <tr>\n      <th>4</th>\n      <td>1</td>\n      <td>0</td>\n      <td>Allison, Mrs. Hudson J C (Bessie Waldo Daniels)</td>\n      <td>female</td>\n      <td>25.0000</td>\n      <td>1</td>\n      <td>2</td>\n      <td>113781</td>\n      <td>151.5500</td>\n      <td>C22 C26</td>\n      <td>S</td>\n      <td>NaN</td>\n      <td>NaN</td>\n      <td>Montreal, PQ / Chesterville, ON</td>\n    </tr>\n    <tr>\n      <th>5</th>\n      <td>1</td>\n      <td>1</td>\n      <td>Anderson, Mr. Harry</td>\n      <td>male</td>\n      <td>48.0000</td>\n      <td>0</td>\n      <td>0</td>\n      <td>19952</td>\n      <td>26.5500</td>\n      <td>E12</td>\n      <td>S</td>\n      <td>3</td>\n      <td>NaN</td>\n      <td>New York, NY</td>\n    </tr>\n    <tr>\n      <th>6</th>\n      <td>1</td>\n      <td>1</td>\n      <td>Andrews, Miss. Kornelia Theodosia</td>\n      <td>female</td>\n      <td>63.0000</td>\n      <td>1</td>\n      <td>0</td>\n      <td>13502</td>\n      <td>77.9583</td>\n      <td>D7</td>\n      <td>S</td>\n      <td>10</td>\n      <td>NaN</td>\n      <td>Hudson, NY</td>\n    </tr>\n    <tr>\n      <th>7</th>\n      <td>1</td>\n      <td>0</td>\n      <td>Andrews, Mr. Thomas Jr</td>\n      <td>male</td>\n      <td>39.0000</td>\n      <td>0</td>\n      <td>0</td>\n      <td>112050</td>\n      <td>0.0000</td>\n      <td>A36</td>\n      <td>S</td>\n      <td>NaN</td>\n      <td>NaN</td>\n      <td>Belfast, NI</td>\n    </tr>\n    <tr>\n      <th>8</th>\n      <td>1</td>\n      <td>1</td>\n      <td>Appleton, Mrs. Edward Dale (Charlotte Lamson)</td>\n      <td>female</td>\n      <td>53.0000</td>\n      <td>2</td>\n      <td>0</td>\n      <td>11769</td>\n      <td>51.4792</td>\n      <td>C101</td>\n      <td>S</td>\n      <td>D</td>\n      <td>NaN</td>\n      <td>Bayside, Queens, NY</td>\n    </tr>\n    <tr>\n      <th>9</th>\n      <td>1</td>\n      <td>0</td>\n      <td>Artagaveytia, Mr. Ramon</td>\n      <td>male</td>\n      <td>71.0000</td>\n      <td>0</td>\n      <td>0</td>\n      <td>PC 17609</td>\n      <td>49.5042</td>\n      <td>NaN</td>\n      <td>C</td>\n      <td>NaN</td>\n      <td>22.0</td>\n      <td>Montevideo, Uruguay</td>\n    </tr>\n    <tr>\n      <th>10</th>\n      <td>1</td>\n      <td>0</td>\n      <td>Astor, Col. John Jacob</td>\n      <td>male</td>\n      <td>47.0000</td>\n      <td>1</td>\n      <td>0</td>\n      <td>PC 17757</td>\n      <td>227.5250</td>\n      <td>C62 C64</td>\n      <td>C</td>\n      <td>NaN</td>\n      <td>124.0</td>\n      <td>New York, NY</td>\n    </tr>\n    <tr>\n      <th>11</th>\n      <td>1</td>\n      <td>1</td>\n      <td>Astor, Mrs. John Jacob (Madeleine Talmadge Force)</td>\n      <td>female</td>\n      <td>18.0000</td>\n      <td>1</td>\n      <td>0</td>\n      <td>PC 17757</td>\n      <td>227.5250</td>\n      <td>C62 C64</td>\n      <td>C</td>\n      <td>4</td>\n      <td>NaN</td>\n      <td>New York, NY</td>\n    </tr>\n    <tr>\n      <th>12</th>\n      <td>1</td>\n      <td>1</td>\n      <td>Aubart, Mme. Leontine Pauline</td>\n      <td>female</td>\n      <td>24.0000</td>\n      <td>0</td>\n      <td>0</td>\n      <td>PC 17477</td>\n      <td>69.3000</td>\n      <td>B35</td>\n      <td>C</td>\n      <td>9</td>\n      <td>NaN</td>\n      <td>Paris, France</td>\n    </tr>\n    <tr>\n      <th>13</th>\n      <td>1</td>\n      <td>1</td>\n      <td>Barber, Miss. Ellen \"Nellie\"</td>\n      <td>female</td>\n      <td>26.0000</td>\n      <td>0</td>\n      <td>0</td>\n      <td>19877</td>\n      <td>78.8500</td>\n      <td>NaN</td>\n      <td>S</td>\n      <td>6</td>\n      <td>NaN</td>\n      <td>NaN</td>\n    </tr>\n    <tr>\n      <th>14</th>\n      <td>1</td>\n      <td>1</td>\n      <td>Barkworth, Mr. Algernon Henry Wilson</td>\n      <td>male</td>\n      <td>80.0000</td>\n      <td>0</td>\n      <td>0</td>\n      <td>27042</td>\n      <td>30.0000</td>\n      <td>A23</td>\n      <td>S</td>\n      <td>B</td>\n      <td>NaN</td>\n      <td>Hessle, Yorks</td>\n    </tr>\n    <tr>\n      <th>15</th>\n      <td>1</td>\n      <td>0</td>\n      <td>Baumann, Mr. John D</td>\n      <td>male</td>\n      <td>NaN</td>\n      <td>0</td>\n      <td>0</td>\n      <td>PC 17318</td>\n      <td>25.9250</td>\n      <td>NaN</td>\n      <td>S</td>\n      <td>NaN</td>\n      <td>NaN</td>\n      <td>New York, NY</td>\n    </tr>\n    <tr>\n      <th>16</th>\n      <td>1</td>\n      <td>0</td>\n      <td>Baxter, Mr. Quigg Edmond</td>\n      <td>male</td>\n      <td>24.0000</td>\n      <td>0</td>\n      <td>1</td>\n      <td>PC 17558</td>\n      <td>247.5208</td>\n      <td>B58 B60</td>\n      <td>C</td>\n      <td>NaN</td>\n      <td>NaN</td>\n      <td>Montreal, PQ</td>\n    </tr>\n    <tr>\n      <th>17</th>\n      <td>1</td>\n      <td>1</td>\n      <td>Baxter, Mrs. James (Helene DeLaudeniere Chaput)</td>\n      <td>female</td>\n      <td>50.0000</td>\n      <td>0</td>\n      <td>1</td>\n      <td>PC 17558</td>\n      <td>247.5208</td>\n      <td>B58 B60</td>\n      <td>C</td>\n      <td>6</td>\n      <td>NaN</td>\n      <td>Montreal, PQ</td>\n    </tr>\n    <tr>\n      <th>18</th>\n      <td>1</td>\n      <td>1</td>\n      <td>Bazzani, Miss. Albina</td>\n      <td>female</td>\n      <td>32.0000</td>\n      <td>0</td>\n      <td>0</td>\n      <td>11813</td>\n      <td>76.2917</td>\n      <td>D15</td>\n      <td>C</td>\n      <td>8</td>\n      <td>NaN</td>\n      <td>NaN</td>\n    </tr>\n    <tr>\n      <th>19</th>\n      <td>1</td>\n      <td>0</td>\n      <td>Beattie, Mr. Thomson</td>\n      <td>male</td>\n      <td>36.0000</td>\n      <td>0</td>\n      <td>0</td>\n      <td>13050</td>\n      <td>75.2417</td>\n      <td>C6</td>\n      <td>C</td>\n      <td>A</td>\n      <td>NaN</td>\n      <td>Winnipeg, MN</td>\n    </tr>\n    <tr>\n      <th>20</th>\n      <td>1</td>\n      <td>1</td>\n      <td>Beckwith, Mr. Richard Leonard</td>\n      <td>male</td>\n      <td>37.0000</td>\n      <td>1</td>\n      <td>1</td>\n      <td>11751</td>\n      <td>52.5542</td>\n      <td>D35</td>\n      <td>S</td>\n      <td>5</td>\n      <td>NaN</td>\n      <td>New York, NY</td>\n    </tr>\n    <tr>\n      <th>21</th>\n      <td>1</td>\n      <td>1</td>\n      <td>Beckwith, Mrs. Richard Leonard (Sallie Monypeny)</td>\n      <td>female</td>\n      <td>47.0000</td>\n      <td>1</td>\n      <td>1</td>\n      <td>11751</td>\n      <td>52.5542</td>\n      <td>D35</td>\n      <td>S</td>\n      <td>5</td>\n      <td>NaN</td>\n      <td>New York, NY</td>\n    </tr>\n    <tr>\n      <th>22</th>\n      <td>1</td>\n      <td>1</td>\n      <td>Behr, Mr. Karl Howell</td>\n      <td>male</td>\n      <td>26.0000</td>\n      <td>0</td>\n      <td>0</td>\n      <td>111369</td>\n      <td>30.0000</td>\n      <td>C148</td>\n      <td>C</td>\n      <td>5</td>\n      <td>NaN</td>\n      <td>New York, NY</td>\n    </tr>\n    <tr>\n      <th>23</th>\n      <td>1</td>\n      <td>1</td>\n      <td>Bidois, Miss. Rosalie</td>\n      <td>female</td>\n      <td>42.0000</td>\n      <td>0</td>\n      <td>0</td>\n      <td>PC 17757</td>\n      <td>227.5250</td>\n      <td>NaN</td>\n      <td>C</td>\n      <td>4</td>\n      <td>NaN</td>\n      <td>NaN</td>\n    </tr>\n    <tr>\n      <th>24</th>\n      <td>1</td>\n      <td>1</td>\n      <td>Bird, Miss. Ellen</td>\n      <td>female</td>\n      <td>29.0000</td>\n      <td>0</td>\n      <td>0</td>\n      <td>PC 17483</td>\n      <td>221.7792</td>\n      <td>C97</td>\n      <td>S</td>\n      <td>8</td>\n      <td>NaN</td>\n      <td>NaN</td>\n    </tr>\n    <tr>\n      <th>25</th>\n      <td>1</td>\n      <td>0</td>\n      <td>Birnbaum, Mr. Jakob</td>\n      <td>male</td>\n      <td>25.0000</td>\n      <td>0</td>\n      <td>0</td>\n      <td>13905</td>\n      <td>26.0000</td>\n      <td>NaN</td>\n      <td>C</td>\n      <td>NaN</td>\n      <td>148.0</td>\n      <td>San Francisco, CA</td>\n    </tr>\n    <tr>\n      <th>26</th>\n      <td>1</td>\n      <td>1</td>\n      <td>Bishop, Mr. Dickinson H</td>\n      <td>male</td>\n      <td>25.0000</td>\n      <td>1</td>\n      <td>0</td>\n      <td>11967</td>\n      <td>91.0792</td>\n      <td>B49</td>\n      <td>C</td>\n      <td>7</td>\n      <td>NaN</td>\n      <td>Dowagiac, MI</td>\n    </tr>\n    <tr>\n      <th>27</th>\n      <td>1</td>\n      <td>1</td>\n      <td>Bishop, Mrs. Dickinson H (Helen Walton)</td>\n      <td>female</td>\n      <td>19.0000</td>\n      <td>1</td>\n      <td>0</td>\n      <td>11967</td>\n      <td>91.0792</td>\n      <td>B49</td>\n      <td>C</td>\n      <td>7</td>\n      <td>NaN</td>\n      <td>Dowagiac, MI</td>\n    </tr>\n    <tr>\n      <th>28</th>\n      <td>1</td>\n      <td>1</td>\n      <td>Bissette, Miss. Amelia</td>\n      <td>female</td>\n      <td>35.0000</td>\n      <td>0</td>\n      <td>0</td>\n      <td>PC 17760</td>\n      <td>135.6333</td>\n      <td>C99</td>\n      <td>S</td>\n      <td>8</td>\n      <td>NaN</td>\n      <td>NaN</td>\n    </tr>\n    <tr>\n      <th>29</th>\n      <td>1</td>\n      <td>1</td>\n      <td>Bjornstrom-Steffansson, Mr. Mauritz Hakan</td>\n      <td>male</td>\n      <td>28.0000</td>\n      <td>0</td>\n      <td>0</td>\n      <td>110564</td>\n      <td>26.5500</td>\n      <td>C52</td>\n      <td>S</td>\n      <td>D</td>\n      <td>NaN</td>\n      <td>Stockholm, Sweden / Washington, DC</td>\n    </tr>\n    <tr>\n      <th>...</th>\n      <td>...</td>\n      <td>...</td>\n      <td>...</td>\n      <td>...</td>\n      <td>...</td>\n      <td>...</td>\n      <td>...</td>\n      <td>...</td>\n      <td>...</td>\n      <td>...</td>\n      <td>...</td>\n      <td>...</td>\n      <td>...</td>\n      <td>...</td>\n    </tr>\n    <tr>\n      <th>70</th>\n      <td>1</td>\n      <td>0</td>\n      <td>Chisholm, Mr. Roderick Robert Crispin</td>\n      <td>male</td>\n      <td>NaN</td>\n      <td>0</td>\n      <td>0</td>\n      <td>112051</td>\n      <td>0.0000</td>\n      <td>NaN</td>\n      <td>S</td>\n      <td>NaN</td>\n      <td>NaN</td>\n      <td>Liverpool, England / Belfast</td>\n    </tr>\n    <tr>\n      <th>71</th>\n      <td>1</td>\n      <td>0</td>\n      <td>Clark, Mr. Walter Miller</td>\n      <td>male</td>\n      <td>27.0000</td>\n      <td>1</td>\n      <td>0</td>\n      <td>13508</td>\n      <td>136.7792</td>\n      <td>C89</td>\n      <td>C</td>\n      <td>NaN</td>\n      <td>NaN</td>\n      <td>Los Angeles, CA</td>\n    </tr>\n    <tr>\n      <th>72</th>\n      <td>1</td>\n      <td>1</td>\n      <td>Clark, Mrs. Walter Miller (Virginia McDowell)</td>\n      <td>female</td>\n      <td>26.0000</td>\n      <td>1</td>\n      <td>0</td>\n      <td>13508</td>\n      <td>136.7792</td>\n      <td>C89</td>\n      <td>C</td>\n      <td>4</td>\n      <td>NaN</td>\n      <td>Los Angeles, CA</td>\n    </tr>\n    <tr>\n      <th>73</th>\n      <td>1</td>\n      <td>1</td>\n      <td>Cleaver, Miss. Alice</td>\n      <td>female</td>\n      <td>22.0000</td>\n      <td>0</td>\n      <td>0</td>\n      <td>113781</td>\n      <td>151.5500</td>\n      <td>NaN</td>\n      <td>S</td>\n      <td>11</td>\n      <td>NaN</td>\n      <td>NaN</td>\n    </tr>\n    <tr>\n      <th>74</th>\n      <td>1</td>\n      <td>0</td>\n      <td>Clifford, Mr. George Quincy</td>\n      <td>male</td>\n      <td>NaN</td>\n      <td>0</td>\n      <td>0</td>\n      <td>110465</td>\n      <td>52.0000</td>\n      <td>A14</td>\n      <td>S</td>\n      <td>NaN</td>\n      <td>NaN</td>\n      <td>Stoughton, MA</td>\n    </tr>\n    <tr>\n      <th>75</th>\n      <td>1</td>\n      <td>0</td>\n      <td>Colley, Mr. Edward Pomeroy</td>\n      <td>male</td>\n      <td>47.0000</td>\n      <td>0</td>\n      <td>0</td>\n      <td>5727</td>\n      <td>25.5875</td>\n      <td>E58</td>\n      <td>S</td>\n      <td>NaN</td>\n      <td>NaN</td>\n      <td>Victoria, BC</td>\n    </tr>\n    <tr>\n      <th>76</th>\n      <td>1</td>\n      <td>1</td>\n      <td>Compton, Miss. Sara Rebecca</td>\n      <td>female</td>\n      <td>39.0000</td>\n      <td>1</td>\n      <td>1</td>\n      <td>PC 17756</td>\n      <td>83.1583</td>\n      <td>E49</td>\n      <td>C</td>\n      <td>14</td>\n      <td>NaN</td>\n      <td>Lakewood, NJ</td>\n    </tr>\n    <tr>\n      <th>77</th>\n      <td>1</td>\n      <td>0</td>\n      <td>Compton, Mr. Alexander Taylor Jr</td>\n      <td>male</td>\n      <td>37.0000</td>\n      <td>1</td>\n      <td>1</td>\n      <td>PC 17756</td>\n      <td>83.1583</td>\n      <td>E52</td>\n      <td>C</td>\n      <td>NaN</td>\n      <td>NaN</td>\n      <td>Lakewood, NJ</td>\n    </tr>\n    <tr>\n      <th>78</th>\n      <td>1</td>\n      <td>1</td>\n      <td>Compton, Mrs. Alexander Taylor (Mary Eliza Ing...</td>\n      <td>female</td>\n      <td>64.0000</td>\n      <td>0</td>\n      <td>2</td>\n      <td>PC 17756</td>\n      <td>83.1583</td>\n      <td>E45</td>\n      <td>C</td>\n      <td>14</td>\n      <td>NaN</td>\n      <td>Lakewood, NJ</td>\n    </tr>\n    <tr>\n      <th>79</th>\n      <td>1</td>\n      <td>1</td>\n      <td>Cornell, Mrs. Robert Clifford (Malvina Helen L...</td>\n      <td>female</td>\n      <td>55.0000</td>\n      <td>2</td>\n      <td>0</td>\n      <td>11770</td>\n      <td>25.7000</td>\n      <td>C101</td>\n      <td>S</td>\n      <td>2</td>\n      <td>NaN</td>\n      <td>New York, NY</td>\n    </tr>\n    <tr>\n      <th>80</th>\n      <td>1</td>\n      <td>0</td>\n      <td>Crafton, Mr. John Bertram</td>\n      <td>male</td>\n      <td>NaN</td>\n      <td>0</td>\n      <td>0</td>\n      <td>113791</td>\n      <td>26.5500</td>\n      <td>NaN</td>\n      <td>S</td>\n      <td>NaN</td>\n      <td>NaN</td>\n      <td>Roachdale, IN</td>\n    </tr>\n    <tr>\n      <th>81</th>\n      <td>1</td>\n      <td>0</td>\n      <td>Crosby, Capt. Edward Gifford</td>\n      <td>male</td>\n      <td>70.0000</td>\n      <td>1</td>\n      <td>1</td>\n      <td>WE/P 5735</td>\n      <td>71.0000</td>\n      <td>B22</td>\n      <td>S</td>\n      <td>NaN</td>\n      <td>269.0</td>\n      <td>Milwaukee, WI</td>\n    </tr>\n    <tr>\n      <th>82</th>\n      <td>1</td>\n      <td>1</td>\n      <td>Crosby, Miss. Harriet R</td>\n      <td>female</td>\n      <td>36.0000</td>\n      <td>0</td>\n      <td>2</td>\n      <td>WE/P 5735</td>\n      <td>71.0000</td>\n      <td>B22</td>\n      <td>S</td>\n      <td>7</td>\n      <td>NaN</td>\n      <td>Milwaukee, WI</td>\n    </tr>\n    <tr>\n      <th>83</th>\n      <td>1</td>\n      <td>1</td>\n      <td>Crosby, Mrs. Edward Gifford (Catherine Elizabe...</td>\n      <td>female</td>\n      <td>64.0000</td>\n      <td>1</td>\n      <td>1</td>\n      <td>112901</td>\n      <td>26.5500</td>\n      <td>B26</td>\n      <td>S</td>\n      <td>7</td>\n      <td>NaN</td>\n      <td>Milwaukee, WI</td>\n    </tr>\n    <tr>\n      <th>84</th>\n      <td>1</td>\n      <td>0</td>\n      <td>Cumings, Mr. John Bradley</td>\n      <td>male</td>\n      <td>39.0000</td>\n      <td>1</td>\n      <td>0</td>\n      <td>PC 17599</td>\n      <td>71.2833</td>\n      <td>C85</td>\n      <td>C</td>\n      <td>NaN</td>\n      <td>NaN</td>\n      <td>New York, NY</td>\n    </tr>\n    <tr>\n      <th>85</th>\n      <td>1</td>\n      <td>1</td>\n      <td>Cumings, Mrs. John Bradley (Florence Briggs Th...</td>\n      <td>female</td>\n      <td>38.0000</td>\n      <td>1</td>\n      <td>0</td>\n      <td>PC 17599</td>\n      <td>71.2833</td>\n      <td>C85</td>\n      <td>C</td>\n      <td>4</td>\n      <td>NaN</td>\n      <td>New York, NY</td>\n    </tr>\n    <tr>\n      <th>86</th>\n      <td>1</td>\n      <td>1</td>\n      <td>Daly, Mr. Peter Denis</td>\n      <td>male</td>\n      <td>51.0000</td>\n      <td>0</td>\n      <td>0</td>\n      <td>113055</td>\n      <td>26.5500</td>\n      <td>E17</td>\n      <td>S</td>\n      <td>5 9</td>\n      <td>NaN</td>\n      <td>Lima, Peru</td>\n    </tr>\n    <tr>\n      <th>87</th>\n      <td>1</td>\n      <td>1</td>\n      <td>Daniel, Mr. Robert Williams</td>\n      <td>male</td>\n      <td>27.0000</td>\n      <td>0</td>\n      <td>0</td>\n      <td>113804</td>\n      <td>30.5000</td>\n      <td>NaN</td>\n      <td>S</td>\n      <td>3</td>\n      <td>NaN</td>\n      <td>Philadelphia, PA</td>\n    </tr>\n    <tr>\n      <th>88</th>\n      <td>1</td>\n      <td>1</td>\n      <td>Daniels, Miss. Sarah</td>\n      <td>female</td>\n      <td>33.0000</td>\n      <td>0</td>\n      <td>0</td>\n      <td>113781</td>\n      <td>151.5500</td>\n      <td>NaN</td>\n      <td>S</td>\n      <td>8</td>\n      <td>NaN</td>\n      <td>NaN</td>\n    </tr>\n    <tr>\n      <th>89</th>\n      <td>1</td>\n      <td>0</td>\n      <td>Davidson, Mr. Thornton</td>\n      <td>male</td>\n      <td>31.0000</td>\n      <td>1</td>\n      <td>0</td>\n      <td>F.C. 12750</td>\n      <td>52.0000</td>\n      <td>B71</td>\n      <td>S</td>\n      <td>NaN</td>\n      <td>NaN</td>\n      <td>Montreal, PQ</td>\n    </tr>\n    <tr>\n      <th>90</th>\n      <td>1</td>\n      <td>1</td>\n      <td>Davidson, Mrs. Thornton (Orian Hays)</td>\n      <td>female</td>\n      <td>27.0000</td>\n      <td>1</td>\n      <td>2</td>\n      <td>F.C. 12750</td>\n      <td>52.0000</td>\n      <td>B71</td>\n      <td>S</td>\n      <td>3</td>\n      <td>NaN</td>\n      <td>Montreal, PQ</td>\n    </tr>\n    <tr>\n      <th>91</th>\n      <td>1</td>\n      <td>1</td>\n      <td>Dick, Mr. Albert Adrian</td>\n      <td>male</td>\n      <td>31.0000</td>\n      <td>1</td>\n      <td>0</td>\n      <td>17474</td>\n      <td>57.0000</td>\n      <td>B20</td>\n      <td>S</td>\n      <td>3</td>\n      <td>NaN</td>\n      <td>Calgary, AB</td>\n    </tr>\n    <tr>\n      <th>92</th>\n      <td>1</td>\n      <td>1</td>\n      <td>Dick, Mrs. Albert Adrian (Vera Gillespie)</td>\n      <td>female</td>\n      <td>17.0000</td>\n      <td>1</td>\n      <td>0</td>\n      <td>17474</td>\n      <td>57.0000</td>\n      <td>B20</td>\n      <td>S</td>\n      <td>3</td>\n      <td>NaN</td>\n      <td>Calgary, AB</td>\n    </tr>\n    <tr>\n      <th>93</th>\n      <td>1</td>\n      <td>1</td>\n      <td>Dodge, Dr. Washington</td>\n      <td>male</td>\n      <td>53.0000</td>\n      <td>1</td>\n      <td>1</td>\n      <td>33638</td>\n      <td>81.8583</td>\n      <td>A34</td>\n      <td>S</td>\n      <td>13</td>\n      <td>NaN</td>\n      <td>San Francisco, CA</td>\n    </tr>\n    <tr>\n      <th>94</th>\n      <td>1</td>\n      <td>1</td>\n      <td>Dodge, Master. Washington</td>\n      <td>male</td>\n      <td>4.0000</td>\n      <td>0</td>\n      <td>2</td>\n      <td>33638</td>\n      <td>81.8583</td>\n      <td>A34</td>\n      <td>S</td>\n      <td>5</td>\n      <td>NaN</td>\n      <td>San Francisco, CA</td>\n    </tr>\n    <tr>\n      <th>95</th>\n      <td>1</td>\n      <td>1</td>\n      <td>Dodge, Mrs. Washington (Ruth Vidaver)</td>\n      <td>female</td>\n      <td>54.0000</td>\n      <td>1</td>\n      <td>1</td>\n      <td>33638</td>\n      <td>81.8583</td>\n      <td>A34</td>\n      <td>S</td>\n      <td>5</td>\n      <td>NaN</td>\n      <td>San Francisco, CA</td>\n    </tr>\n    <tr>\n      <th>96</th>\n      <td>1</td>\n      <td>0</td>\n      <td>Douglas, Mr. Walter Donald</td>\n      <td>male</td>\n      <td>50.0000</td>\n      <td>1</td>\n      <td>0</td>\n      <td>PC 17761</td>\n      <td>106.4250</td>\n      <td>C86</td>\n      <td>C</td>\n      <td>NaN</td>\n      <td>62.0</td>\n      <td>Deephaven, MN / Cedar Rapids, IA</td>\n    </tr>\n    <tr>\n      <th>97</th>\n      <td>1</td>\n      <td>1</td>\n      <td>Douglas, Mrs. Frederick Charles (Mary Helene B...</td>\n      <td>female</td>\n      <td>27.0000</td>\n      <td>1</td>\n      <td>1</td>\n      <td>PC 17558</td>\n      <td>247.5208</td>\n      <td>B58 B60</td>\n      <td>C</td>\n      <td>6</td>\n      <td>NaN</td>\n      <td>Montreal, PQ</td>\n    </tr>\n    <tr>\n      <th>98</th>\n      <td>1</td>\n      <td>1</td>\n      <td>Douglas, Mrs. Walter Donald (Mahala Dutton)</td>\n      <td>female</td>\n      <td>48.0000</td>\n      <td>1</td>\n      <td>0</td>\n      <td>PC 17761</td>\n      <td>106.4250</td>\n      <td>C86</td>\n      <td>C</td>\n      <td>2</td>\n      <td>NaN</td>\n      <td>Deephaven, MN / Cedar Rapids, IA</td>\n    </tr>\n    <tr>\n      <th>99</th>\n      <td>1</td>\n      <td>1</td>\n      <td>Duff Gordon, Lady. (Lucille Christiana Sutherl...</td>\n      <td>female</td>\n      <td>48.0000</td>\n      <td>1</td>\n      <td>0</td>\n      <td>11755</td>\n      <td>39.6000</td>\n      <td>A16</td>\n      <td>C</td>\n      <td>1</td>\n      <td>NaN</td>\n      <td>London / Paris</td>\n    </tr>\n  </tbody>\n</table>\n<p>100 rows × 14 columns</p>\n</div>",
      "text/plain": [
       "    pclass  survived                                               name  \\\n",
       "0        1         1                      Allen, Miss. Elisabeth Walton   \n",
       "1        1         1                     Allison, Master. Hudson Trevor   \n",
       "2        1         0                       Allison, Miss. Helen Loraine   \n",
       "3        1         0               Allison, Mr. Hudson Joshua Creighton   \n",
       "4        1         0    Allison, Mrs. Hudson J C (Bessie Waldo Daniels)   \n",
       "5        1         1                                Anderson, Mr. Harry   \n",
       "6        1         1                  Andrews, Miss. Kornelia Theodosia   \n",
       "7        1         0                             Andrews, Mr. Thomas Jr   \n",
       "8        1         1      Appleton, Mrs. Edward Dale (Charlotte Lamson)   \n",
       "9        1         0                            Artagaveytia, Mr. Ramon   \n",
       "10       1         0                             Astor, Col. John Jacob   \n",
       "11       1         1  Astor, Mrs. John Jacob (Madeleine Talmadge Force)   \n",
       "12       1         1                      Aubart, Mme. Leontine Pauline   \n",
       "13       1         1                       Barber, Miss. Ellen \"Nellie\"   \n",
       "14       1         1               Barkworth, Mr. Algernon Henry Wilson   \n",
       "15       1         0                                Baumann, Mr. John D   \n",
       "16       1         0                           Baxter, Mr. Quigg Edmond   \n",
       "17       1         1    Baxter, Mrs. James (Helene DeLaudeniere Chaput)   \n",
       "18       1         1                              Bazzani, Miss. Albina   \n",
       "19       1         0                               Beattie, Mr. Thomson   \n",
       "20       1         1                      Beckwith, Mr. Richard Leonard   \n",
       "21       1         1   Beckwith, Mrs. Richard Leonard (Sallie Monypeny)   \n",
       "22       1         1                              Behr, Mr. Karl Howell   \n",
       "23       1         1                              Bidois, Miss. Rosalie   \n",
       "24       1         1                                  Bird, Miss. Ellen   \n",
       "25       1         0                                Birnbaum, Mr. Jakob   \n",
       "26       1         1                            Bishop, Mr. Dickinson H   \n",
       "27       1         1            Bishop, Mrs. Dickinson H (Helen Walton)   \n",
       "28       1         1                             Bissette, Miss. Amelia   \n",
       "29       1         1          Bjornstrom-Steffansson, Mr. Mauritz Hakan   \n",
       "..     ...       ...                                                ...   \n",
       "70       1         0              Chisholm, Mr. Roderick Robert Crispin   \n",
       "71       1         0                           Clark, Mr. Walter Miller   \n",
       "72       1         1      Clark, Mrs. Walter Miller (Virginia McDowell)   \n",
       "73       1         1                               Cleaver, Miss. Alice   \n",
       "74       1         0                        Clifford, Mr. George Quincy   \n",
       "75       1         0                         Colley, Mr. Edward Pomeroy   \n",
       "76       1         1                        Compton, Miss. Sara Rebecca   \n",
       "77       1         0                   Compton, Mr. Alexander Taylor Jr   \n",
       "78       1         1  Compton, Mrs. Alexander Taylor (Mary Eliza Ing...   \n",
       "79       1         1  Cornell, Mrs. Robert Clifford (Malvina Helen L...   \n",
       "80       1         0                          Crafton, Mr. John Bertram   \n",
       "81       1         0                       Crosby, Capt. Edward Gifford   \n",
       "82       1         1                            Crosby, Miss. Harriet R   \n",
       "83       1         1  Crosby, Mrs. Edward Gifford (Catherine Elizabe...   \n",
       "84       1         0                          Cumings, Mr. John Bradley   \n",
       "85       1         1  Cumings, Mrs. John Bradley (Florence Briggs Th...   \n",
       "86       1         1                             Daly, Mr. Peter Denis    \n",
       "87       1         1                        Daniel, Mr. Robert Williams   \n",
       "88       1         1                               Daniels, Miss. Sarah   \n",
       "89       1         0                             Davidson, Mr. Thornton   \n",
       "90       1         1               Davidson, Mrs. Thornton (Orian Hays)   \n",
       "91       1         1                            Dick, Mr. Albert Adrian   \n",
       "92       1         1          Dick, Mrs. Albert Adrian (Vera Gillespie)   \n",
       "93       1         1                              Dodge, Dr. Washington   \n",
       "94       1         1                          Dodge, Master. Washington   \n",
       "95       1         1              Dodge, Mrs. Washington (Ruth Vidaver)   \n",
       "96       1         0                         Douglas, Mr. Walter Donald   \n",
       "97       1         1  Douglas, Mrs. Frederick Charles (Mary Helene B...   \n",
       "98       1         1        Douglas, Mrs. Walter Donald (Mahala Dutton)   \n",
       "99       1         1  Duff Gordon, Lady. (Lucille Christiana Sutherl...   \n",
       "\n",
       "       sex      age  sibsp  parch      ticket      fare    cabin embarked  \\\n",
       "0   female  29.0000      0      0       24160  211.3375       B5        S   \n",
       "1     male   0.9167      1      2      113781  151.5500  C22 C26        S   \n",
       "2   female   2.0000      1      2      113781  151.5500  C22 C26        S   \n",
       "3     male  30.0000      1      2      113781  151.5500  C22 C26        S   \n",
       "4   female  25.0000      1      2      113781  151.5500  C22 C26        S   \n",
       "5     male  48.0000      0      0       19952   26.5500      E12        S   \n",
       "6   female  63.0000      1      0       13502   77.9583       D7        S   \n",
       "7     male  39.0000      0      0      112050    0.0000      A36        S   \n",
       "8   female  53.0000      2      0       11769   51.4792     C101        S   \n",
       "9     male  71.0000      0      0    PC 17609   49.5042      NaN        C   \n",
       "10    male  47.0000      1      0    PC 17757  227.5250  C62 C64        C   \n",
       "11  female  18.0000      1      0    PC 17757  227.5250  C62 C64        C   \n",
       "12  female  24.0000      0      0    PC 17477   69.3000      B35        C   \n",
       "13  female  26.0000      0      0       19877   78.8500      NaN        S   \n",
       "14    male  80.0000      0      0       27042   30.0000      A23        S   \n",
       "15    male      NaN      0      0    PC 17318   25.9250      NaN        S   \n",
       "16    male  24.0000      0      1    PC 17558  247.5208  B58 B60        C   \n",
       "17  female  50.0000      0      1    PC 17558  247.5208  B58 B60        C   \n",
       "18  female  32.0000      0      0       11813   76.2917      D15        C   \n",
       "19    male  36.0000      0      0       13050   75.2417       C6        C   \n",
       "20    male  37.0000      1      1       11751   52.5542      D35        S   \n",
       "21  female  47.0000      1      1       11751   52.5542      D35        S   \n",
       "22    male  26.0000      0      0      111369   30.0000     C148        C   \n",
       "23  female  42.0000      0      0    PC 17757  227.5250      NaN        C   \n",
       "24  female  29.0000      0      0    PC 17483  221.7792      C97        S   \n",
       "25    male  25.0000      0      0       13905   26.0000      NaN        C   \n",
       "26    male  25.0000      1      0       11967   91.0792      B49        C   \n",
       "27  female  19.0000      1      0       11967   91.0792      B49        C   \n",
       "28  female  35.0000      0      0    PC 17760  135.6333      C99        S   \n",
       "29    male  28.0000      0      0      110564   26.5500      C52        S   \n",
       "..     ...      ...    ...    ...         ...       ...      ...      ...   \n",
       "70    male      NaN      0      0      112051    0.0000      NaN        S   \n",
       "71    male  27.0000      1      0       13508  136.7792      C89        C   \n",
       "72  female  26.0000      1      0       13508  136.7792      C89        C   \n",
       "73  female  22.0000      0      0      113781  151.5500      NaN        S   \n",
       "74    male      NaN      0      0      110465   52.0000      A14        S   \n",
       "75    male  47.0000      0      0        5727   25.5875      E58        S   \n",
       "76  female  39.0000      1      1    PC 17756   83.1583      E49        C   \n",
       "77    male  37.0000      1      1    PC 17756   83.1583      E52        C   \n",
       "78  female  64.0000      0      2    PC 17756   83.1583      E45        C   \n",
       "79  female  55.0000      2      0       11770   25.7000     C101        S   \n",
       "80    male      NaN      0      0      113791   26.5500      NaN        S   \n",
       "81    male  70.0000      1      1   WE/P 5735   71.0000      B22        S   \n",
       "82  female  36.0000      0      2   WE/P 5735   71.0000      B22        S   \n",
       "83  female  64.0000      1      1      112901   26.5500      B26        S   \n",
       "84    male  39.0000      1      0    PC 17599   71.2833      C85        C   \n",
       "85  female  38.0000      1      0    PC 17599   71.2833      C85        C   \n",
       "86    male  51.0000      0      0      113055   26.5500      E17        S   \n",
       "87    male  27.0000      0      0      113804   30.5000      NaN        S   \n",
       "88  female  33.0000      0      0      113781  151.5500      NaN        S   \n",
       "89    male  31.0000      1      0  F.C. 12750   52.0000      B71        S   \n",
       "90  female  27.0000      1      2  F.C. 12750   52.0000      B71        S   \n",
       "91    male  31.0000      1      0       17474   57.0000      B20        S   \n",
       "92  female  17.0000      1      0       17474   57.0000      B20        S   \n",
       "93    male  53.0000      1      1       33638   81.8583      A34        S   \n",
       "94    male   4.0000      0      2       33638   81.8583      A34        S   \n",
       "95  female  54.0000      1      1       33638   81.8583      A34        S   \n",
       "96    male  50.0000      1      0    PC 17761  106.4250      C86        C   \n",
       "97  female  27.0000      1      1    PC 17558  247.5208  B58 B60        C   \n",
       "98  female  48.0000      1      0    PC 17761  106.4250      C86        C   \n",
       "99  female  48.0000      1      0       11755   39.6000      A16        C   \n",
       "\n",
       "   boat   body                           home.dest  \n",
       "0     2    NaN                        St Louis, MO  \n",
       "1    11    NaN     Montreal, PQ / Chesterville, ON  \n",
       "2   NaN    NaN     Montreal, PQ / Chesterville, ON  \n",
       "3   NaN  135.0     Montreal, PQ / Chesterville, ON  \n",
       "4   NaN    NaN     Montreal, PQ / Chesterville, ON  \n",
       "5     3    NaN                        New York, NY  \n",
       "6    10    NaN                          Hudson, NY  \n",
       "7   NaN    NaN                         Belfast, NI  \n",
       "8     D    NaN                 Bayside, Queens, NY  \n",
       "9   NaN   22.0                 Montevideo, Uruguay  \n",
       "10  NaN  124.0                        New York, NY  \n",
       "11    4    NaN                        New York, NY  \n",
       "12    9    NaN                       Paris, France  \n",
       "13    6    NaN                                 NaN  \n",
       "14    B    NaN                       Hessle, Yorks  \n",
       "15  NaN    NaN                        New York, NY  \n",
       "16  NaN    NaN                        Montreal, PQ  \n",
       "17    6    NaN                        Montreal, PQ  \n",
       "18    8    NaN                                 NaN  \n",
       "19    A    NaN                        Winnipeg, MN  \n",
       "20    5    NaN                        New York, NY  \n",
       "21    5    NaN                        New York, NY  \n",
       "22    5    NaN                        New York, NY  \n",
       "23    4    NaN                                 NaN  \n",
       "24    8    NaN                                 NaN  \n",
       "25  NaN  148.0                   San Francisco, CA  \n",
       "26    7    NaN                        Dowagiac, MI  \n",
       "27    7    NaN                        Dowagiac, MI  \n",
       "28    8    NaN                                 NaN  \n",
       "29    D    NaN  Stockholm, Sweden / Washington, DC  \n",
       "..  ...    ...                                 ...  \n",
       "70  NaN    NaN        Liverpool, England / Belfast  \n",
       "71  NaN    NaN                     Los Angeles, CA  \n",
       "72    4    NaN                     Los Angeles, CA  \n",
       "73   11    NaN                                 NaN  \n",
       "74  NaN    NaN                       Stoughton, MA  \n",
       "75  NaN    NaN                        Victoria, BC  \n",
       "76   14    NaN                        Lakewood, NJ  \n",
       "77  NaN    NaN                        Lakewood, NJ  \n",
       "78   14    NaN                        Lakewood, NJ  \n",
       "79    2    NaN                        New York, NY  \n",
       "80  NaN    NaN                       Roachdale, IN  \n",
       "81  NaN  269.0                       Milwaukee, WI  \n",
       "82    7    NaN                       Milwaukee, WI  \n",
       "83    7    NaN                       Milwaukee, WI  \n",
       "84  NaN    NaN                        New York, NY  \n",
       "85    4    NaN                        New York, NY  \n",
       "86  5 9    NaN                          Lima, Peru  \n",
       "87    3    NaN                    Philadelphia, PA  \n",
       "88    8    NaN                                 NaN  \n",
       "89  NaN    NaN                        Montreal, PQ  \n",
       "90    3    NaN                        Montreal, PQ  \n",
       "91    3    NaN                         Calgary, AB  \n",
       "92    3    NaN                         Calgary, AB  \n",
       "93   13    NaN                   San Francisco, CA  \n",
       "94    5    NaN                   San Francisco, CA  \n",
       "95    5    NaN                   San Francisco, CA  \n",
       "96  NaN   62.0    Deephaven, MN / Cedar Rapids, IA  \n",
       "97    6    NaN                        Montreal, PQ  \n",
       "98    2    NaN    Deephaven, MN / Cedar Rapids, IA  \n",
       "99    1    NaN                      London / Paris  \n",
       "\n",
       "[100 rows x 14 columns]"
      ]
     },
     "metadata": {},
     "execution_count": 4
    }
   ],
   "source": [
    "# 查看前 100 組\n",
    "# http://campus.lakeforest.edu/frank/FILES/MLFfiles/Bio150/Titanic/TitanicMETA.pdf\n",
    "# pclass:   艙等 (1=1st; 2=2nd; 3=3rd)\n",
    "# survived: 是否生還  (0=否; 1=是)\n",
    "# name:     姓名\n",
    "# sex:      性別\n",
    "# age:      年紀\n",
    "# sibsp:    手足或配偶在船上數量\n",
    "# parch:    父母或子女在船上數量\n",
    "# ticket:   船票號碼\n",
    "# fare:     船票價格\n",
    "# cabin:    艙位號碼\n",
    "# embarked: 登船港口 (C=Cherbourg; Q=Queenstown; S=Southampton)\n",
    "# boat:     救生艇編號\n",
    "# body:     大體識別碼\n",
    "# home.dest:住家地址\n",
    "all_df[:100]"
   ]
  },
  {
   "cell_type": "code",
   "execution_count": 5,
   "metadata": {},
   "outputs": [],
   "source": [
    "# 僅取所需的資料欄\n",
    "cols = [\n",
    "    'survived',\n",
    "    'pclass',\n",
    "    'sex',\n",
    "    'age',\n",
    "    'sibsp',\n",
    "    'parch',\n",
    "    'fare',\n",
    "    'embarked'\n",
    "]\n",
    "all_df = all_df[cols]"
   ]
  },
  {
   "cell_type": "code",
   "execution_count": 6,
   "metadata": {},
   "outputs": [
    {
     "output_type": "execute_result",
     "data": {
      "text/plain": [
       "survived      0\n",
       "pclass        0\n",
       "sex           0\n",
       "age         263\n",
       "sibsp         0\n",
       "parch         0\n",
       "fare          1\n",
       "embarked      2\n",
       "dtype: int64"
      ]
     },
     "metadata": {},
     "execution_count": 6
    }
   ],
   "source": [
    "# 資料預處理 (null)\n",
    "all_df.isnull().sum()"
   ]
  },
  {
   "cell_type": "code",
   "execution_count": 7,
   "metadata": {},
   "outputs": [],
   "source": [
    "# 年齡 null 預處理 (平均值法)\n",
    "age_mean = all_df['age'].mean()\n",
    "all_df['age'] = all_df['age'].fillna(age_mean)"
   ]
  },
  {
   "cell_type": "code",
   "execution_count": 8,
   "metadata": {},
   "outputs": [],
   "source": [
    "# 船票價格 null 預處理 (平均值法)\n",
    "fare_mean = all_df['fare'].mean()\n",
    "all_df['fare'] = all_df['fare'].fillna(fare_mean)"
   ]
  },
  {
   "cell_type": "code",
   "execution_count": 9,
   "metadata": {},
   "outputs": [],
   "source": [
    "# 登船港口 null 預處裡 (設成 C)\n",
    "all_df['embarked'] = all_df['embarked'].fillna(\"C\")"
   ]
  },
  {
   "cell_type": "code",
   "execution_count": 10,
   "metadata": {},
   "outputs": [
    {
     "output_type": "execute_result",
     "data": {
      "text/plain": [
       "survived    0\n",
       "pclass      0\n",
       "sex         0\n",
       "age         0\n",
       "sibsp       0\n",
       "parch       0\n",
       "fare        0\n",
       "embarked    0\n",
       "dtype: int64"
      ]
     },
     "metadata": {},
     "execution_count": 10
    }
   ],
   "source": [
    "# 檢查還有沒有 null\n",
    "all_df.isnull().sum()"
   ]
  },
  {
   "cell_type": "code",
   "execution_count": 11,
   "metadata": {},
   "outputs": [],
   "source": [
    "# 性別預處理 (文字轉數字)\n",
    "all_df['sex'] = all_df['sex'].map({'female':0, 'male':1}).astype('int')"
   ]
  },
  {
   "cell_type": "code",
   "execution_count": 12,
   "metadata": {},
   "outputs": [],
   "source": [
    "# 登船港口預處理 (文字轉 onehot)\n",
    "# embarked 會變 3 欄\n",
    "x_OneHot_df = pd.get_dummies(data=all_df, columns=['embarked'])"
   ]
  },
  {
   "cell_type": "code",
   "execution_count": 13,
   "metadata": {},
   "outputs": [
    {
     "output_type": "execute_result",
     "data": {
      "text/html": "<div>\n<style scoped>\n    .dataframe tbody tr th:only-of-type {\n        vertical-align: middle;\n    }\n\n    .dataframe tbody tr th {\n        vertical-align: top;\n    }\n\n    .dataframe thead th {\n        text-align: right;\n    }\n</style>\n<table border=\"1\" class=\"dataframe\">\n  <thead>\n    <tr style=\"text-align: right;\">\n      <th></th>\n      <th>survived</th>\n      <th>pclass</th>\n      <th>sex</th>\n      <th>age</th>\n      <th>sibsp</th>\n      <th>parch</th>\n      <th>fare</th>\n      <th>embarked_C</th>\n      <th>embarked_Q</th>\n      <th>embarked_S</th>\n    </tr>\n  </thead>\n  <tbody>\n    <tr>\n      <th>0</th>\n      <td>1</td>\n      <td>1</td>\n      <td>0</td>\n      <td>29.0000</td>\n      <td>0</td>\n      <td>0</td>\n      <td>211.3375</td>\n      <td>0</td>\n      <td>0</td>\n      <td>1</td>\n    </tr>\n    <tr>\n      <th>1</th>\n      <td>1</td>\n      <td>1</td>\n      <td>1</td>\n      <td>0.9167</td>\n      <td>1</td>\n      <td>2</td>\n      <td>151.5500</td>\n      <td>0</td>\n      <td>0</td>\n      <td>1</td>\n    </tr>\n    <tr>\n      <th>2</th>\n      <td>0</td>\n      <td>1</td>\n      <td>0</td>\n      <td>2.0000</td>\n      <td>1</td>\n      <td>2</td>\n      <td>151.5500</td>\n      <td>0</td>\n      <td>0</td>\n      <td>1</td>\n    </tr>\n    <tr>\n      <th>3</th>\n      <td>0</td>\n      <td>1</td>\n      <td>1</td>\n      <td>30.0000</td>\n      <td>1</td>\n      <td>2</td>\n      <td>151.5500</td>\n      <td>0</td>\n      <td>0</td>\n      <td>1</td>\n    </tr>\n    <tr>\n      <th>4</th>\n      <td>0</td>\n      <td>1</td>\n      <td>0</td>\n      <td>25.0000</td>\n      <td>1</td>\n      <td>2</td>\n      <td>151.5500</td>\n      <td>0</td>\n      <td>0</td>\n      <td>1</td>\n    </tr>\n    <tr>\n      <th>5</th>\n      <td>1</td>\n      <td>1</td>\n      <td>1</td>\n      <td>48.0000</td>\n      <td>0</td>\n      <td>0</td>\n      <td>26.5500</td>\n      <td>0</td>\n      <td>0</td>\n      <td>1</td>\n    </tr>\n    <tr>\n      <th>6</th>\n      <td>1</td>\n      <td>1</td>\n      <td>0</td>\n      <td>63.0000</td>\n      <td>1</td>\n      <td>0</td>\n      <td>77.9583</td>\n      <td>0</td>\n      <td>0</td>\n      <td>1</td>\n    </tr>\n    <tr>\n      <th>7</th>\n      <td>0</td>\n      <td>1</td>\n      <td>1</td>\n      <td>39.0000</td>\n      <td>0</td>\n      <td>0</td>\n      <td>0.0000</td>\n      <td>0</td>\n      <td>0</td>\n      <td>1</td>\n    </tr>\n    <tr>\n      <th>8</th>\n      <td>1</td>\n      <td>1</td>\n      <td>0</td>\n      <td>53.0000</td>\n      <td>2</td>\n      <td>0</td>\n      <td>51.4792</td>\n      <td>0</td>\n      <td>0</td>\n      <td>1</td>\n    </tr>\n    <tr>\n      <th>9</th>\n      <td>0</td>\n      <td>1</td>\n      <td>1</td>\n      <td>71.0000</td>\n      <td>0</td>\n      <td>0</td>\n      <td>49.5042</td>\n      <td>1</td>\n      <td>0</td>\n      <td>0</td>\n    </tr>\n  </tbody>\n</table>\n</div>",
      "text/plain": [
       "   survived  pclass  sex      age  sibsp  parch      fare  embarked_C  \\\n",
       "0         1       1    0  29.0000      0      0  211.3375           0   \n",
       "1         1       1    1   0.9167      1      2  151.5500           0   \n",
       "2         0       1    0   2.0000      1      2  151.5500           0   \n",
       "3         0       1    1  30.0000      1      2  151.5500           0   \n",
       "4         0       1    0  25.0000      1      2  151.5500           0   \n",
       "5         1       1    1  48.0000      0      0   26.5500           0   \n",
       "6         1       1    0  63.0000      1      0   77.9583           0   \n",
       "7         0       1    1  39.0000      0      0    0.0000           0   \n",
       "8         1       1    0  53.0000      2      0   51.4792           0   \n",
       "9         0       1    1  71.0000      0      0   49.5042           1   \n",
       "\n",
       "   embarked_Q  embarked_S  \n",
       "0           0           1  \n",
       "1           0           1  \n",
       "2           0           1  \n",
       "3           0           1  \n",
       "4           0           1  \n",
       "5           0           1  \n",
       "6           0           1  \n",
       "7           0           1  \n",
       "8           0           1  \n",
       "9           0           0  "
      ]
     },
     "metadata": {},
     "execution_count": 13
    }
   ],
   "source": [
    "# 查看最後結果\n",
    "x_OneHot_df[:10]"
   ]
  },
  {
   "cell_type": "code",
   "execution_count": 14,
   "metadata": {},
   "outputs": [
    {
     "output_type": "execute_result",
     "data": {
      "text/plain": [
       "array([[1., 1., 0., ..., 0., 0., 1.],\n",
       "       [1., 1., 1., ..., 0., 0., 1.],\n",
       "       [0., 1., 0., ..., 0., 0., 1.],\n",
       "       ...,\n",
       "       [0., 3., 1., ..., 1., 0., 0.],\n",
       "       [0., 3., 1., ..., 1., 0., 0.],\n",
       "       [0., 3., 1., ..., 0., 0., 1.]])"
      ]
     },
     "metadata": {},
     "execution_count": 14
    }
   ],
   "source": [
    "# 轉成 ndarray並查看最後結果\n",
    "ndarray = x_OneHot_df.values\n",
    "ndarray"
   ]
  },
  {
   "cell_type": "code",
   "execution_count": 15,
   "metadata": {},
   "outputs": [],
   "source": [
    "# 另是否存活當 label，其他當作 features\n",
    "label       = ndarray[:,0]\n",
    "features    = ndarray[:,1:]"
   ]
  },
  {
   "cell_type": "code",
   "execution_count": 16,
   "metadata": {},
   "outputs": [
    {
     "output_type": "stream",
     "name": "stdout",
     "text": [
      "[1. 1.]\n[[  1.       0.      29.       0.       0.     211.3375   0.       0.\n    1.    ]\n [  1.       1.       0.9167   1.       2.     151.55     0.       0.\n    1.    ]]\n"
     ]
    }
   ],
   "source": [
    "# 查看 label & features\n",
    "print(label[:2])\n",
    "print(features[:2])"
   ]
  },
  {
   "cell_type": "code",
   "execution_count": 17,
   "metadata": {},
   "outputs": [],
   "source": [
    "# 標準化參數 (這次直接用預處理模組)\n",
    "from sklearn import preprocessing\n",
    "minmax_scale = preprocessing.MinMaxScaler(feature_range=(0, 1))\n",
    "scaled_features = minmax_scale.fit_transform(features)"
   ]
  },
  {
   "cell_type": "code",
   "execution_count": 18,
   "metadata": {},
   "outputs": [
    {
     "output_type": "stream",
     "name": "stdout",
     "text": [
      "[[0.         0.         0.36116884 0.         0.         0.41250333\n  0.         0.         1.        ]\n [0.         1.         0.00939458 0.125      0.22222222 0.2958059\n  0.         0.         1.        ]]\n"
     ]
    }
   ],
   "source": [
    "# 查看標準化後的 features\n",
    "print(scaled_features[:2])"
   ]
  },
  {
   "cell_type": "code",
   "execution_count": 19,
   "metadata": {},
   "outputs": [
    {
     "output_type": "stream",
     "name": "stdout",
     "text": [
      "total:  1309 train:  1057 test:  252\n"
     ]
    }
   ],
   "source": [
    "# 切割訓練與驗證資料 0.8/0.2\n",
    "msk = np.random.rand(len(scaled_features)) < 0.8\n",
    "train_features  = scaled_features[msk]\n",
    "test_features   = scaled_features[~msk]\n",
    "train_label     = label[msk]\n",
    "test_label      = label[~msk]\n",
    "print(\n",
    "    'total: ', len(scaled_features),\n",
    "    'train: ', len(train_features),\n",
    "    'test: ',  len(test_features),\n",
    ")"
   ]
  },
  {
   "cell_type": "code",
   "execution_count": 20,
   "metadata": {},
   "outputs": [
    {
     "output_type": "stream",
     "name": "stdout",
     "text": [
      "1 Physical GPUs, 1 Logical GPUs\n"
     ]
    }
   ],
   "source": [
    "# 建立 CNN 模型 & \n",
    "# 載入其他函式庫\n",
    "from keras.models import Sequential\n",
    "from keras.layers import Dense, Dropout\n",
    "import otherLib as olib\n",
    "olib.solve_cudnn_error() # 處理 GPU memory 分配\n",
    "model = Sequential()"
   ]
  },
  {
   "cell_type": "code",
   "execution_count": 21,
   "metadata": {},
   "outputs": [],
   "source": [
    "# 建立模型輸入層與隱藏層 1\n",
    "# 隱藏層: 40 \n",
    "# 輸入層: 9\n",
    "# 常態分佈亂數: nuiform (處理 bias)\n",
    "# 啟動函數: 線性\n",
    "model.add(Dense(\n",
    "    units = 40,\n",
    "    input_dim = 9,\n",
    "    kernel_initializer = \"uniform\",\n",
    "    activation = 'relu'\n",
    "))"
   ]
  },
  {
   "cell_type": "code",
   "execution_count": 22,
   "metadata": {},
   "outputs": [],
   "source": [
    "# 建立模型隱藏層 2\n",
    "# 隱藏層: 30 \n",
    "# 常態分佈亂數: uniform (處理 bias)\n",
    "# 啟動函數: 線性\n",
    "model.add(Dense(\n",
    "    units = 30,\n",
    "    kernel_initializer = \"uniform\",\n",
    "    activation = 'relu'\n",
    "))"
   ]
  },
  {
   "cell_type": "code",
   "execution_count": 23,
   "metadata": {},
   "outputs": [],
   "source": [
    "# 建立輸出層\n",
    "# 輸出層: 1\n",
    "# 常態分佈亂數: uniform (處理 bias)\n",
    "# 啟動函數: S型函數\n",
    "model.add(Dense(\n",
    "    units = 1,\n",
    "    kernel_initializer = 'uniform',\n",
    "    activation = 'sigmoid'\n",
    "))"
   ]
  },
  {
   "cell_type": "code",
   "execution_count": 24,
   "metadata": {},
   "outputs": [
    {
     "output_type": "stream",
     "name": "stdout",
     "text": [
      "Model: \"sequential\"\n_________________________________________________________________\nLayer (type)                 Output Shape              Param #   \n=================================================================\ndense (Dense)                (None, 40)                400       \n_________________________________________________________________\ndense_1 (Dense)              (None, 30)                1230      \n_________________________________________________________________\ndense_2 (Dense)              (None, 1)                 31        \n=================================================================\nTotal params: 1,661\nTrainable params: 1,661\nNon-trainable params: 0\n_________________________________________________________________\nNone\n"
     ]
    }
   ],
   "source": [
    "# 顯示剛建立之模型\n",
    "print(model.summary())"
   ]
  },
  {
   "cell_type": "code",
   "execution_count": 25,
   "metadata": {},
   "outputs": [],
   "source": [
    "# 定義訓練方法\n",
    "# 損失函數: 二元交叉熵\n",
    "# 最佳化方法: adam\n",
    "# 最佳化依據: 準確率\n",
    "model.compile(\n",
    "    loss = 'binary_crossentropy',\n",
    "    optimizer = 'adam',\n",
    "    metrics = 'accuracy'\n",
    ")"
   ]
  },
  {
   "cell_type": "code",
   "execution_count": 26,
   "metadata": {},
   "outputs": [
    {
     "output_type": "stream",
     "name": "stdout",
     "text": [
      "Epoch 1/30\n",
      "32/32 [==============================] - 0s 5ms/step - loss: 0.6881 - accuracy: 0.5920 - val_loss: 0.6612 - val_accuracy: 0.8019\n",
      "Epoch 2/30\n",
      "32/32 [==============================] - 0s 2ms/step - loss: 0.6588 - accuracy: 0.6036 - val_loss: 0.5708 - val_accuracy: 0.8019\n",
      "Epoch 3/30\n",
      "32/32 [==============================] - 0s 2ms/step - loss: 0.5968 - accuracy: 0.6845 - val_loss: 0.4989 - val_accuracy: 0.8113\n",
      "Epoch 4/30\n",
      "32/32 [==============================] - 0s 2ms/step - loss: 0.5375 - accuracy: 0.7634 - val_loss: 0.5211 - val_accuracy: 0.7736\n",
      "Epoch 5/30\n",
      "32/32 [==============================] - 0s 2ms/step - loss: 0.4993 - accuracy: 0.7813 - val_loss: 0.4708 - val_accuracy: 0.7547\n",
      "Epoch 6/30\n",
      "32/32 [==============================] - 0s 2ms/step - loss: 0.4893 - accuracy: 0.7676 - val_loss: 0.4827 - val_accuracy: 0.7547\n",
      "Epoch 7/30\n",
      "32/32 [==============================] - 0s 2ms/step - loss: 0.4778 - accuracy: 0.7771 - val_loss: 0.4897 - val_accuracy: 0.7736\n",
      "Epoch 8/30\n",
      "32/32 [==============================] - 0s 3ms/step - loss: 0.4731 - accuracy: 0.7771 - val_loss: 0.4665 - val_accuracy: 0.7736\n",
      "Epoch 9/30\n",
      "32/32 [==============================] - 0s 2ms/step - loss: 0.4690 - accuracy: 0.7792 - val_loss: 0.4507 - val_accuracy: 0.7925\n",
      "Epoch 10/30\n",
      "32/32 [==============================] - 0s 2ms/step - loss: 0.4647 - accuracy: 0.7823 - val_loss: 0.4642 - val_accuracy: 0.7736\n",
      "Epoch 11/30\n",
      "32/32 [==============================] - 0s 2ms/step - loss: 0.4603 - accuracy: 0.7739 - val_loss: 0.4553 - val_accuracy: 0.7642\n",
      "Epoch 12/30\n",
      "32/32 [==============================] - 0s 2ms/step - loss: 0.4591 - accuracy: 0.7739 - val_loss: 0.4390 - val_accuracy: 0.7925\n",
      "Epoch 13/30\n",
      "32/32 [==============================] - 0s 2ms/step - loss: 0.4593 - accuracy: 0.7855 - val_loss: 0.4496 - val_accuracy: 0.8019\n",
      "Epoch 14/30\n",
      "32/32 [==============================] - 0s 2ms/step - loss: 0.4562 - accuracy: 0.7865 - val_loss: 0.4442 - val_accuracy: 0.8019\n",
      "Epoch 15/30\n",
      "32/32 [==============================] - 0s 2ms/step - loss: 0.4510 - accuracy: 0.7771 - val_loss: 0.4376 - val_accuracy: 0.8113\n",
      "Epoch 16/30\n",
      "32/32 [==============================] - 0s 2ms/step - loss: 0.4503 - accuracy: 0.7939 - val_loss: 0.4315 - val_accuracy: 0.8208\n",
      "Epoch 17/30\n",
      "32/32 [==============================] - 0s 2ms/step - loss: 0.4486 - accuracy: 0.7886 - val_loss: 0.4277 - val_accuracy: 0.8302\n",
      "Epoch 18/30\n",
      "32/32 [==============================] - 0s 2ms/step - loss: 0.4480 - accuracy: 0.7907 - val_loss: 0.4258 - val_accuracy: 0.8113\n",
      "Epoch 19/30\n",
      "32/32 [==============================] - 0s 2ms/step - loss: 0.4443 - accuracy: 0.7939 - val_loss: 0.4282 - val_accuracy: 0.8302\n",
      "Epoch 20/30\n",
      "32/32 [==============================] - 0s 2ms/step - loss: 0.4420 - accuracy: 0.8044 - val_loss: 0.4271 - val_accuracy: 0.8302\n",
      "Epoch 21/30\n",
      "32/32 [==============================] - 0s 2ms/step - loss: 0.4416 - accuracy: 0.7960 - val_loss: 0.4253 - val_accuracy: 0.8396\n",
      "Epoch 22/30\n",
      "32/32 [==============================] - 0s 2ms/step - loss: 0.4391 - accuracy: 0.8076 - val_loss: 0.4238 - val_accuracy: 0.8302\n",
      "Epoch 23/30\n",
      "32/32 [==============================] - 0s 2ms/step - loss: 0.4379 - accuracy: 0.8034 - val_loss: 0.4243 - val_accuracy: 0.8302\n",
      "Epoch 24/30\n",
      "32/32 [==============================] - 0s 2ms/step - loss: 0.4389 - accuracy: 0.7992 - val_loss: 0.4210 - val_accuracy: 0.8396\n",
      "Epoch 25/30\n",
      "32/32 [==============================] - 0s 2ms/step - loss: 0.4358 - accuracy: 0.7981 - val_loss: 0.4202 - val_accuracy: 0.8302\n",
      "Epoch 26/30\n",
      "32/32 [==============================] - 0s 2ms/step - loss: 0.4373 - accuracy: 0.8002 - val_loss: 0.4214 - val_accuracy: 0.8113\n",
      "Epoch 27/30\n",
      "32/32 [==============================] - 0s 2ms/step - loss: 0.4343 - accuracy: 0.8013 - val_loss: 0.4221 - val_accuracy: 0.8302\n",
      "Epoch 28/30\n",
      "32/32 [==============================] - 0s 2ms/step - loss: 0.4363 - accuracy: 0.7950 - val_loss: 0.4261 - val_accuracy: 0.8302\n",
      "Epoch 29/30\n",
      "32/32 [==============================] - 0s 2ms/step - loss: 0.4348 - accuracy: 0.8034 - val_loss: 0.4176 - val_accuracy: 0.8302\n",
      "Epoch 30/30\n",
      "32/32 [==============================] - 0s 2ms/step - loss: 0.4326 - accuracy: 0.8044 - val_loss: 0.4201 - val_accuracy: 0.8302\n"
     ]
    }
   ],
   "source": [
    "# 開始訓練\n",
    "# x,y: 輸入值\n",
    "# 拆分: 0.1 資料作驗證； 0.9做訓練\n",
    "# 訓練: 30 次\n",
    "# 每批次: 30 筆資料\n",
    "train_history = model.fit(\n",
    "    x = train_features,\n",
    "    y = train_label,\n",
    "    validation_split = 0.1,\n",
    "    epochs = 30,\n",
    "    batch_size = 30\n",
    ")"
   ]
  },
  {
   "cell_type": "code",
   "execution_count": 27,
   "metadata": {},
   "outputs": [
    {
     "output_type": "display_data",
     "data": {
      "image/svg+xml": "<?xml version=\"1.0\" encoding=\"utf-8\" standalone=\"no\"?>\r\n<!DOCTYPE svg PUBLIC \"-//W3C//DTD SVG 1.1//EN\"\r\n  \"http://www.w3.org/Graphics/SVG/1.1/DTD/svg11.dtd\">\r\n<!-- Created with matplotlib (http://matplotlib.org/) -->\r\n<svg height=\"277.314375pt\" version=\"1.1\" viewBox=\"0 0 395.64375 277.314375\" width=\"395.64375pt\" xmlns=\"http://www.w3.org/2000/svg\" xmlns:xlink=\"http://www.w3.org/1999/xlink\">\r\n <defs>\r\n  <style type=\"text/css\">\r\n*{stroke-linecap:butt;stroke-linejoin:round;}\r\n  </style>\r\n </defs>\r\n <g id=\"figure_1\">\r\n  <g id=\"patch_1\">\r\n   <path d=\"M 0 277.314375 \r\nL 395.64375 277.314375 \r\nL 395.64375 0 \r\nL 0 0 \r\nz\r\n\" style=\"fill:none;\"/>\r\n  </g>\r\n  <g id=\"axes_1\">\r\n   <g id=\"patch_2\">\r\n    <path d=\"M 50.14375 239.758125 \r\nL 384.94375 239.758125 \r\nL 384.94375 22.318125 \r\nL 50.14375 22.318125 \r\nz\r\n\" style=\"fill:#ffffff;\"/>\r\n   </g>\r\n   <g id=\"matplotlib.axis_1\">\r\n    <g id=\"xtick_1\">\r\n     <g id=\"line2d_1\">\r\n      <defs>\r\n       <path d=\"M 0 0 \r\nL 0 3.5 \r\n\" id=\"m80ee2165b2\" style=\"stroke:#000000;stroke-width:0.8;\"/>\r\n      </defs>\r\n      <g>\r\n       <use style=\"stroke:#000000;stroke-width:0.8;\" x=\"65.361932\" xlink:href=\"#m80ee2165b2\" y=\"239.758125\"/>\r\n      </g>\r\n     </g>\r\n     <g id=\"text_1\">\r\n      <!-- 0 -->\r\n      <defs>\r\n       <path d=\"M 31.78125 66.40625 \r\nQ 24.171875 66.40625 20.328125 58.90625 \r\nQ 16.5 51.421875 16.5 36.375 \r\nQ 16.5 21.390625 20.328125 13.890625 \r\nQ 24.171875 6.390625 31.78125 6.390625 \r\nQ 39.453125 6.390625 43.28125 13.890625 \r\nQ 47.125 21.390625 47.125 36.375 \r\nQ 47.125 51.421875 43.28125 58.90625 \r\nQ 39.453125 66.40625 31.78125 66.40625 \r\nz\r\nM 31.78125 74.21875 \r\nQ 44.046875 74.21875 50.515625 64.515625 \r\nQ 56.984375 54.828125 56.984375 36.375 \r\nQ 56.984375 17.96875 50.515625 8.265625 \r\nQ 44.046875 -1.421875 31.78125 -1.421875 \r\nQ 19.53125 -1.421875 13.0625 8.265625 \r\nQ 6.59375 17.96875 6.59375 36.375 \r\nQ 6.59375 54.828125 13.0625 64.515625 \r\nQ 19.53125 74.21875 31.78125 74.21875 \r\nz\r\n\" id=\"DejaVuSans-30\"/>\r\n      </defs>\r\n      <g transform=\"translate(62.180682 254.356562)scale(0.1 -0.1)\">\r\n       <use xlink:href=\"#DejaVuSans-30\"/>\r\n      </g>\r\n     </g>\r\n    </g>\r\n    <g id=\"xtick_2\">\r\n     <g id=\"line2d_2\">\r\n      <g>\r\n       <use style=\"stroke:#000000;stroke-width:0.8;\" x=\"117.838421\" xlink:href=\"#m80ee2165b2\" y=\"239.758125\"/>\r\n      </g>\r\n     </g>\r\n     <g id=\"text_2\">\r\n      <!-- 5 -->\r\n      <defs>\r\n       <path d=\"M 10.796875 72.90625 \r\nL 49.515625 72.90625 \r\nL 49.515625 64.59375 \r\nL 19.828125 64.59375 \r\nL 19.828125 46.734375 \r\nQ 21.96875 47.46875 24.109375 47.828125 \r\nQ 26.265625 48.1875 28.421875 48.1875 \r\nQ 40.625 48.1875 47.75 41.5 \r\nQ 54.890625 34.8125 54.890625 23.390625 \r\nQ 54.890625 11.625 47.5625 5.09375 \r\nQ 40.234375 -1.421875 26.90625 -1.421875 \r\nQ 22.3125 -1.421875 17.546875 -0.640625 \r\nQ 12.796875 0.140625 7.71875 1.703125 \r\nL 7.71875 11.625 \r\nQ 12.109375 9.234375 16.796875 8.0625 \r\nQ 21.484375 6.890625 26.703125 6.890625 \r\nQ 35.15625 6.890625 40.078125 11.328125 \r\nQ 45.015625 15.765625 45.015625 23.390625 \r\nQ 45.015625 31 40.078125 35.4375 \r\nQ 35.15625 39.890625 26.703125 39.890625 \r\nQ 22.75 39.890625 18.8125 39.015625 \r\nQ 14.890625 38.140625 10.796875 36.28125 \r\nz\r\n\" id=\"DejaVuSans-35\"/>\r\n      </defs>\r\n      <g transform=\"translate(114.657171 254.356562)scale(0.1 -0.1)\">\r\n       <use xlink:href=\"#DejaVuSans-35\"/>\r\n      </g>\r\n     </g>\r\n    </g>\r\n    <g id=\"xtick_3\">\r\n     <g id=\"line2d_3\">\r\n      <g>\r\n       <use style=\"stroke:#000000;stroke-width:0.8;\" x=\"170.31491\" xlink:href=\"#m80ee2165b2\" y=\"239.758125\"/>\r\n      </g>\r\n     </g>\r\n     <g id=\"text_3\">\r\n      <!-- 10 -->\r\n      <defs>\r\n       <path d=\"M 12.40625 8.296875 \r\nL 28.515625 8.296875 \r\nL 28.515625 63.921875 \r\nL 10.984375 60.40625 \r\nL 10.984375 69.390625 \r\nL 28.421875 72.90625 \r\nL 38.28125 72.90625 \r\nL 38.28125 8.296875 \r\nL 54.390625 8.296875 \r\nL 54.390625 0 \r\nL 12.40625 0 \r\nz\r\n\" id=\"DejaVuSans-31\"/>\r\n      </defs>\r\n      <g transform=\"translate(163.95241 254.356562)scale(0.1 -0.1)\">\r\n       <use xlink:href=\"#DejaVuSans-31\"/>\r\n       <use x=\"63.623047\" xlink:href=\"#DejaVuSans-30\"/>\r\n      </g>\r\n     </g>\r\n    </g>\r\n    <g id=\"xtick_4\">\r\n     <g id=\"line2d_4\">\r\n      <g>\r\n       <use style=\"stroke:#000000;stroke-width:0.8;\" x=\"222.791399\" xlink:href=\"#m80ee2165b2\" y=\"239.758125\"/>\r\n      </g>\r\n     </g>\r\n     <g id=\"text_4\">\r\n      <!-- 15 -->\r\n      <g transform=\"translate(216.428899 254.356562)scale(0.1 -0.1)\">\r\n       <use xlink:href=\"#DejaVuSans-31\"/>\r\n       <use x=\"63.623047\" xlink:href=\"#DejaVuSans-35\"/>\r\n      </g>\r\n     </g>\r\n    </g>\r\n    <g id=\"xtick_5\">\r\n     <g id=\"line2d_5\">\r\n      <g>\r\n       <use style=\"stroke:#000000;stroke-width:0.8;\" x=\"275.267888\" xlink:href=\"#m80ee2165b2\" y=\"239.758125\"/>\r\n      </g>\r\n     </g>\r\n     <g id=\"text_5\">\r\n      <!-- 20 -->\r\n      <defs>\r\n       <path d=\"M 19.1875 8.296875 \r\nL 53.609375 8.296875 \r\nL 53.609375 0 \r\nL 7.328125 0 \r\nL 7.328125 8.296875 \r\nQ 12.9375 14.109375 22.625 23.890625 \r\nQ 32.328125 33.6875 34.8125 36.53125 \r\nQ 39.546875 41.84375 41.421875 45.53125 \r\nQ 43.3125 49.21875 43.3125 52.78125 \r\nQ 43.3125 58.59375 39.234375 62.25 \r\nQ 35.15625 65.921875 28.609375 65.921875 \r\nQ 23.96875 65.921875 18.8125 64.3125 \r\nQ 13.671875 62.703125 7.8125 59.421875 \r\nL 7.8125 69.390625 \r\nQ 13.765625 71.78125 18.9375 73 \r\nQ 24.125 74.21875 28.421875 74.21875 \r\nQ 39.75 74.21875 46.484375 68.546875 \r\nQ 53.21875 62.890625 53.21875 53.421875 \r\nQ 53.21875 48.921875 51.53125 44.890625 \r\nQ 49.859375 40.875 45.40625 35.40625 \r\nQ 44.1875 33.984375 37.640625 27.21875 \r\nQ 31.109375 20.453125 19.1875 8.296875 \r\nz\r\n\" id=\"DejaVuSans-32\"/>\r\n      </defs>\r\n      <g transform=\"translate(268.905388 254.356562)scale(0.1 -0.1)\">\r\n       <use xlink:href=\"#DejaVuSans-32\"/>\r\n       <use x=\"63.623047\" xlink:href=\"#DejaVuSans-30\"/>\r\n      </g>\r\n     </g>\r\n    </g>\r\n    <g id=\"xtick_6\">\r\n     <g id=\"line2d_6\">\r\n      <g>\r\n       <use style=\"stroke:#000000;stroke-width:0.8;\" x=\"327.744377\" xlink:href=\"#m80ee2165b2\" y=\"239.758125\"/>\r\n      </g>\r\n     </g>\r\n     <g id=\"text_6\">\r\n      <!-- 25 -->\r\n      <g transform=\"translate(321.381877 254.356562)scale(0.1 -0.1)\">\r\n       <use xlink:href=\"#DejaVuSans-32\"/>\r\n       <use x=\"63.623047\" xlink:href=\"#DejaVuSans-35\"/>\r\n      </g>\r\n     </g>\r\n    </g>\r\n    <g id=\"xtick_7\">\r\n     <g id=\"line2d_7\">\r\n      <g>\r\n       <use style=\"stroke:#000000;stroke-width:0.8;\" x=\"380.220866\" xlink:href=\"#m80ee2165b2\" y=\"239.758125\"/>\r\n      </g>\r\n     </g>\r\n     <g id=\"text_7\">\r\n      <!-- 30 -->\r\n      <defs>\r\n       <path d=\"M 40.578125 39.3125 \r\nQ 47.65625 37.796875 51.625 33 \r\nQ 55.609375 28.21875 55.609375 21.1875 \r\nQ 55.609375 10.40625 48.1875 4.484375 \r\nQ 40.765625 -1.421875 27.09375 -1.421875 \r\nQ 22.515625 -1.421875 17.65625 -0.515625 \r\nQ 12.796875 0.390625 7.625 2.203125 \r\nL 7.625 11.71875 \r\nQ 11.71875 9.328125 16.59375 8.109375 \r\nQ 21.484375 6.890625 26.8125 6.890625 \r\nQ 36.078125 6.890625 40.9375 10.546875 \r\nQ 45.796875 14.203125 45.796875 21.1875 \r\nQ 45.796875 27.640625 41.28125 31.265625 \r\nQ 36.765625 34.90625 28.71875 34.90625 \r\nL 20.21875 34.90625 \r\nL 20.21875 43.015625 \r\nL 29.109375 43.015625 \r\nQ 36.375 43.015625 40.234375 45.921875 \r\nQ 44.09375 48.828125 44.09375 54.296875 \r\nQ 44.09375 59.90625 40.109375 62.90625 \r\nQ 36.140625 65.921875 28.71875 65.921875 \r\nQ 24.65625 65.921875 20.015625 65.03125 \r\nQ 15.375 64.15625 9.8125 62.3125 \r\nL 9.8125 71.09375 \r\nQ 15.4375 72.65625 20.34375 73.4375 \r\nQ 25.25 74.21875 29.59375 74.21875 \r\nQ 40.828125 74.21875 47.359375 69.109375 \r\nQ 53.90625 64.015625 53.90625 55.328125 \r\nQ 53.90625 49.265625 50.4375 45.09375 \r\nQ 46.96875 40.921875 40.578125 39.3125 \r\nz\r\n\" id=\"DejaVuSans-33\"/>\r\n      </defs>\r\n      <g transform=\"translate(373.858366 254.356562)scale(0.1 -0.1)\">\r\n       <use xlink:href=\"#DejaVuSans-33\"/>\r\n       <use x=\"63.623047\" xlink:href=\"#DejaVuSans-30\"/>\r\n      </g>\r\n     </g>\r\n    </g>\r\n    <g id=\"text_8\">\r\n     <!-- Epochs -->\r\n     <defs>\r\n      <path d=\"M 9.8125 72.90625 \r\nL 55.90625 72.90625 \r\nL 55.90625 64.59375 \r\nL 19.671875 64.59375 \r\nL 19.671875 43.015625 \r\nL 54.390625 43.015625 \r\nL 54.390625 34.71875 \r\nL 19.671875 34.71875 \r\nL 19.671875 8.296875 \r\nL 56.78125 8.296875 \r\nL 56.78125 0 \r\nL 9.8125 0 \r\nz\r\n\" id=\"DejaVuSans-45\"/>\r\n      <path d=\"M 18.109375 8.203125 \r\nL 18.109375 -20.796875 \r\nL 9.078125 -20.796875 \r\nL 9.078125 54.6875 \r\nL 18.109375 54.6875 \r\nL 18.109375 46.390625 \r\nQ 20.953125 51.265625 25.265625 53.625 \r\nQ 29.59375 56 35.59375 56 \r\nQ 45.5625 56 51.78125 48.09375 \r\nQ 58.015625 40.1875 58.015625 27.296875 \r\nQ 58.015625 14.40625 51.78125 6.484375 \r\nQ 45.5625 -1.421875 35.59375 -1.421875 \r\nQ 29.59375 -1.421875 25.265625 0.953125 \r\nQ 20.953125 3.328125 18.109375 8.203125 \r\nz\r\nM 48.6875 27.296875 \r\nQ 48.6875 37.203125 44.609375 42.84375 \r\nQ 40.53125 48.484375 33.40625 48.484375 \r\nQ 26.265625 48.484375 22.1875 42.84375 \r\nQ 18.109375 37.203125 18.109375 27.296875 \r\nQ 18.109375 17.390625 22.1875 11.75 \r\nQ 26.265625 6.109375 33.40625 6.109375 \r\nQ 40.53125 6.109375 44.609375 11.75 \r\nQ 48.6875 17.390625 48.6875 27.296875 \r\nz\r\n\" id=\"DejaVuSans-70\"/>\r\n      <path d=\"M 30.609375 48.390625 \r\nQ 23.390625 48.390625 19.1875 42.75 \r\nQ 14.984375 37.109375 14.984375 27.296875 \r\nQ 14.984375 17.484375 19.15625 11.84375 \r\nQ 23.34375 6.203125 30.609375 6.203125 \r\nQ 37.796875 6.203125 41.984375 11.859375 \r\nQ 46.1875 17.53125 46.1875 27.296875 \r\nQ 46.1875 37.015625 41.984375 42.703125 \r\nQ 37.796875 48.390625 30.609375 48.390625 \r\nz\r\nM 30.609375 56 \r\nQ 42.328125 56 49.015625 48.375 \r\nQ 55.71875 40.765625 55.71875 27.296875 \r\nQ 55.71875 13.875 49.015625 6.21875 \r\nQ 42.328125 -1.421875 30.609375 -1.421875 \r\nQ 18.84375 -1.421875 12.171875 6.21875 \r\nQ 5.515625 13.875 5.515625 27.296875 \r\nQ 5.515625 40.765625 12.171875 48.375 \r\nQ 18.84375 56 30.609375 56 \r\nz\r\n\" id=\"DejaVuSans-6f\"/>\r\n      <path d=\"M 48.78125 52.59375 \r\nL 48.78125 44.1875 \r\nQ 44.96875 46.296875 41.140625 47.34375 \r\nQ 37.3125 48.390625 33.40625 48.390625 \r\nQ 24.65625 48.390625 19.8125 42.84375 \r\nQ 14.984375 37.3125 14.984375 27.296875 \r\nQ 14.984375 17.28125 19.8125 11.734375 \r\nQ 24.65625 6.203125 33.40625 6.203125 \r\nQ 37.3125 6.203125 41.140625 7.25 \r\nQ 44.96875 8.296875 48.78125 10.40625 \r\nL 48.78125 2.09375 \r\nQ 45.015625 0.34375 40.984375 -0.53125 \r\nQ 36.96875 -1.421875 32.421875 -1.421875 \r\nQ 20.0625 -1.421875 12.78125 6.34375 \r\nQ 5.515625 14.109375 5.515625 27.296875 \r\nQ 5.515625 40.671875 12.859375 48.328125 \r\nQ 20.21875 56 33.015625 56 \r\nQ 37.15625 56 41.109375 55.140625 \r\nQ 45.0625 54.296875 48.78125 52.59375 \r\nz\r\n\" id=\"DejaVuSans-63\"/>\r\n      <path d=\"M 54.890625 33.015625 \r\nL 54.890625 0 \r\nL 45.90625 0 \r\nL 45.90625 32.71875 \r\nQ 45.90625 40.484375 42.875 44.328125 \r\nQ 39.84375 48.1875 33.796875 48.1875 \r\nQ 26.515625 48.1875 22.3125 43.546875 \r\nQ 18.109375 38.921875 18.109375 30.90625 \r\nL 18.109375 0 \r\nL 9.078125 0 \r\nL 9.078125 75.984375 \r\nL 18.109375 75.984375 \r\nL 18.109375 46.1875 \r\nQ 21.34375 51.125 25.703125 53.5625 \r\nQ 30.078125 56 35.796875 56 \r\nQ 45.21875 56 50.046875 50.171875 \r\nQ 54.890625 44.34375 54.890625 33.015625 \r\nz\r\n\" id=\"DejaVuSans-68\"/>\r\n      <path d=\"M 44.28125 53.078125 \r\nL 44.28125 44.578125 \r\nQ 40.484375 46.53125 36.375 47.5 \r\nQ 32.28125 48.484375 27.875 48.484375 \r\nQ 21.1875 48.484375 17.84375 46.4375 \r\nQ 14.5 44.390625 14.5 40.28125 \r\nQ 14.5 37.15625 16.890625 35.375 \r\nQ 19.28125 33.59375 26.515625 31.984375 \r\nL 29.59375 31.296875 \r\nQ 39.15625 29.25 43.1875 25.515625 \r\nQ 47.21875 21.78125 47.21875 15.09375 \r\nQ 47.21875 7.46875 41.1875 3.015625 \r\nQ 35.15625 -1.421875 24.609375 -1.421875 \r\nQ 20.21875 -1.421875 15.453125 -0.5625 \r\nQ 10.6875 0.296875 5.421875 2 \r\nL 5.421875 11.28125 \r\nQ 10.40625 8.6875 15.234375 7.390625 \r\nQ 20.0625 6.109375 24.8125 6.109375 \r\nQ 31.15625 6.109375 34.5625 8.28125 \r\nQ 37.984375 10.453125 37.984375 14.40625 \r\nQ 37.984375 18.0625 35.515625 20.015625 \r\nQ 33.0625 21.96875 24.703125 23.78125 \r\nL 21.578125 24.515625 \r\nQ 13.234375 26.265625 9.515625 29.90625 \r\nQ 5.8125 33.546875 5.8125 39.890625 \r\nQ 5.8125 47.609375 11.28125 51.796875 \r\nQ 16.75 56 26.8125 56 \r\nQ 31.78125 56 36.171875 55.265625 \r\nQ 40.578125 54.546875 44.28125 53.078125 \r\nz\r\n\" id=\"DejaVuSans-73\"/>\r\n     </defs>\r\n     <g transform=\"translate(199.628125 268.034687)scale(0.1 -0.1)\">\r\n      <use xlink:href=\"#DejaVuSans-45\"/>\r\n      <use x=\"63.183594\" xlink:href=\"#DejaVuSans-70\"/>\r\n      <use x=\"126.660156\" xlink:href=\"#DejaVuSans-6f\"/>\r\n      <use x=\"187.841797\" xlink:href=\"#DejaVuSans-63\"/>\r\n      <use x=\"242.822266\" xlink:href=\"#DejaVuSans-68\"/>\r\n      <use x=\"306.201172\" xlink:href=\"#DejaVuSans-73\"/>\r\n     </g>\r\n    </g>\r\n   </g>\r\n   <g id=\"matplotlib.axis_2\">\r\n    <g id=\"ytick_1\">\r\n     <g id=\"line2d_8\">\r\n      <defs>\r\n       <path d=\"M 0 0 \r\nL -3.5 0 \r\n\" id=\"m35417d654f\" style=\"stroke:#000000;stroke-width:0.8;\"/>\r\n      </defs>\r\n      <g>\r\n       <use style=\"stroke:#000000;stroke-width:0.8;\" x=\"50.14375\" xlink:href=\"#m35417d654f\" y=\"223.494729\"/>\r\n      </g>\r\n     </g>\r\n     <g id=\"text_9\">\r\n      <!-- 0.60 -->\r\n      <defs>\r\n       <path d=\"M 10.6875 12.40625 \r\nL 21 12.40625 \r\nL 21 0 \r\nL 10.6875 0 \r\nz\r\n\" id=\"DejaVuSans-2e\"/>\r\n       <path d=\"M 33.015625 40.375 \r\nQ 26.375 40.375 22.484375 35.828125 \r\nQ 18.609375 31.296875 18.609375 23.390625 \r\nQ 18.609375 15.53125 22.484375 10.953125 \r\nQ 26.375 6.390625 33.015625 6.390625 \r\nQ 39.65625 6.390625 43.53125 10.953125 \r\nQ 47.40625 15.53125 47.40625 23.390625 \r\nQ 47.40625 31.296875 43.53125 35.828125 \r\nQ 39.65625 40.375 33.015625 40.375 \r\nz\r\nM 52.59375 71.296875 \r\nL 52.59375 62.3125 \r\nQ 48.875 64.0625 45.09375 64.984375 \r\nQ 41.3125 65.921875 37.59375 65.921875 \r\nQ 27.828125 65.921875 22.671875 59.328125 \r\nQ 17.53125 52.734375 16.796875 39.40625 \r\nQ 19.671875 43.65625 24.015625 45.921875 \r\nQ 28.375 48.1875 33.59375 48.1875 \r\nQ 44.578125 48.1875 50.953125 41.515625 \r\nQ 57.328125 34.859375 57.328125 23.390625 \r\nQ 57.328125 12.15625 50.6875 5.359375 \r\nQ 44.046875 -1.421875 33.015625 -1.421875 \r\nQ 20.359375 -1.421875 13.671875 8.265625 \r\nQ 6.984375 17.96875 6.984375 36.375 \r\nQ 6.984375 53.65625 15.1875 63.9375 \r\nQ 23.390625 74.21875 37.203125 74.21875 \r\nQ 40.921875 74.21875 44.703125 73.484375 \r\nQ 48.484375 72.75 52.59375 71.296875 \r\nz\r\n\" id=\"DejaVuSans-36\"/>\r\n      </defs>\r\n      <g transform=\"translate(20.878125 227.293948)scale(0.1 -0.1)\">\r\n       <use xlink:href=\"#DejaVuSans-30\"/>\r\n       <use x=\"63.623047\" xlink:href=\"#DejaVuSans-2e\"/>\r\n       <use x=\"95.410156\" xlink:href=\"#DejaVuSans-36\"/>\r\n       <use x=\"159.033203\" xlink:href=\"#DejaVuSans-30\"/>\r\n      </g>\r\n     </g>\r\n    </g>\r\n    <g id=\"ytick_2\">\r\n     <g id=\"line2d_9\">\r\n      <g>\r\n       <use style=\"stroke:#000000;stroke-width:0.8;\" x=\"50.14375\" xlink:href=\"#m35417d654f\" y=\"183.579263\"/>\r\n      </g>\r\n     </g>\r\n     <g id=\"text_10\">\r\n      <!-- 0.65 -->\r\n      <g transform=\"translate(20.878125 187.378482)scale(0.1 -0.1)\">\r\n       <use xlink:href=\"#DejaVuSans-30\"/>\r\n       <use x=\"63.623047\" xlink:href=\"#DejaVuSans-2e\"/>\r\n       <use x=\"95.410156\" xlink:href=\"#DejaVuSans-36\"/>\r\n       <use x=\"159.033203\" xlink:href=\"#DejaVuSans-35\"/>\r\n      </g>\r\n     </g>\r\n    </g>\r\n    <g id=\"ytick_3\">\r\n     <g id=\"line2d_10\">\r\n      <g>\r\n       <use style=\"stroke:#000000;stroke-width:0.8;\" x=\"50.14375\" xlink:href=\"#m35417d654f\" y=\"143.663797\"/>\r\n      </g>\r\n     </g>\r\n     <g id=\"text_11\">\r\n      <!-- 0.70 -->\r\n      <defs>\r\n       <path d=\"M 8.203125 72.90625 \r\nL 55.078125 72.90625 \r\nL 55.078125 68.703125 \r\nL 28.609375 0 \r\nL 18.3125 0 \r\nL 43.21875 64.59375 \r\nL 8.203125 64.59375 \r\nz\r\n\" id=\"DejaVuSans-37\"/>\r\n      </defs>\r\n      <g transform=\"translate(20.878125 147.463016)scale(0.1 -0.1)\">\r\n       <use xlink:href=\"#DejaVuSans-30\"/>\r\n       <use x=\"63.623047\" xlink:href=\"#DejaVuSans-2e\"/>\r\n       <use x=\"95.410156\" xlink:href=\"#DejaVuSans-37\"/>\r\n       <use x=\"159.033203\" xlink:href=\"#DejaVuSans-30\"/>\r\n      </g>\r\n     </g>\r\n    </g>\r\n    <g id=\"ytick_4\">\r\n     <g id=\"line2d_11\">\r\n      <g>\r\n       <use style=\"stroke:#000000;stroke-width:0.8;\" x=\"50.14375\" xlink:href=\"#m35417d654f\" y=\"103.748332\"/>\r\n      </g>\r\n     </g>\r\n     <g id=\"text_12\">\r\n      <!-- 0.75 -->\r\n      <g transform=\"translate(20.878125 107.54755)scale(0.1 -0.1)\">\r\n       <use xlink:href=\"#DejaVuSans-30\"/>\r\n       <use x=\"63.623047\" xlink:href=\"#DejaVuSans-2e\"/>\r\n       <use x=\"95.410156\" xlink:href=\"#DejaVuSans-37\"/>\r\n       <use x=\"159.033203\" xlink:href=\"#DejaVuSans-35\"/>\r\n      </g>\r\n     </g>\r\n    </g>\r\n    <g id=\"ytick_5\">\r\n     <g id=\"line2d_12\">\r\n      <g>\r\n       <use style=\"stroke:#000000;stroke-width:0.8;\" x=\"50.14375\" xlink:href=\"#m35417d654f\" y=\"63.832866\"/>\r\n      </g>\r\n     </g>\r\n     <g id=\"text_13\">\r\n      <!-- 0.80 -->\r\n      <defs>\r\n       <path d=\"M 31.78125 34.625 \r\nQ 24.75 34.625 20.71875 30.859375 \r\nQ 16.703125 27.09375 16.703125 20.515625 \r\nQ 16.703125 13.921875 20.71875 10.15625 \r\nQ 24.75 6.390625 31.78125 6.390625 \r\nQ 38.8125 6.390625 42.859375 10.171875 \r\nQ 46.921875 13.96875 46.921875 20.515625 \r\nQ 46.921875 27.09375 42.890625 30.859375 \r\nQ 38.875 34.625 31.78125 34.625 \r\nz\r\nM 21.921875 38.8125 \r\nQ 15.578125 40.375 12.03125 44.71875 \r\nQ 8.5 49.078125 8.5 55.328125 \r\nQ 8.5 64.0625 14.71875 69.140625 \r\nQ 20.953125 74.21875 31.78125 74.21875 \r\nQ 42.671875 74.21875 48.875 69.140625 \r\nQ 55.078125 64.0625 55.078125 55.328125 \r\nQ 55.078125 49.078125 51.53125 44.71875 \r\nQ 48 40.375 41.703125 38.8125 \r\nQ 48.828125 37.15625 52.796875 32.3125 \r\nQ 56.78125 27.484375 56.78125 20.515625 \r\nQ 56.78125 9.90625 50.3125 4.234375 \r\nQ 43.84375 -1.421875 31.78125 -1.421875 \r\nQ 19.734375 -1.421875 13.25 4.234375 \r\nQ 6.78125 9.90625 6.78125 20.515625 \r\nQ 6.78125 27.484375 10.78125 32.3125 \r\nQ 14.796875 37.15625 21.921875 38.8125 \r\nz\r\nM 18.3125 54.390625 \r\nQ 18.3125 48.734375 21.84375 45.5625 \r\nQ 25.390625 42.390625 31.78125 42.390625 \r\nQ 38.140625 42.390625 41.71875 45.5625 \r\nQ 45.3125 48.734375 45.3125 54.390625 \r\nQ 45.3125 60.0625 41.71875 63.234375 \r\nQ 38.140625 66.40625 31.78125 66.40625 \r\nQ 25.390625 66.40625 21.84375 63.234375 \r\nQ 18.3125 60.0625 18.3125 54.390625 \r\nz\r\n\" id=\"DejaVuSans-38\"/>\r\n      </defs>\r\n      <g transform=\"translate(20.878125 67.632084)scale(0.1 -0.1)\">\r\n       <use xlink:href=\"#DejaVuSans-30\"/>\r\n       <use x=\"63.623047\" xlink:href=\"#DejaVuSans-2e\"/>\r\n       <use x=\"95.410156\" xlink:href=\"#DejaVuSans-38\"/>\r\n       <use x=\"159.033203\" xlink:href=\"#DejaVuSans-30\"/>\r\n      </g>\r\n     </g>\r\n    </g>\r\n    <g id=\"ytick_6\">\r\n     <g id=\"line2d_13\">\r\n      <g>\r\n       <use style=\"stroke:#000000;stroke-width:0.8;\" x=\"50.14375\" xlink:href=\"#m35417d654f\" y=\"23.9174\"/>\r\n      </g>\r\n     </g>\r\n     <g id=\"text_14\">\r\n      <!-- 0.85 -->\r\n      <g transform=\"translate(20.878125 27.716618)scale(0.1 -0.1)\">\r\n       <use xlink:href=\"#DejaVuSans-30\"/>\r\n       <use x=\"63.623047\" xlink:href=\"#DejaVuSans-2e\"/>\r\n       <use x=\"95.410156\" xlink:href=\"#DejaVuSans-38\"/>\r\n       <use x=\"159.033203\" xlink:href=\"#DejaVuSans-35\"/>\r\n      </g>\r\n     </g>\r\n    </g>\r\n    <g id=\"text_15\">\r\n     <!-- Accuracy -->\r\n     <defs>\r\n      <path d=\"M 34.1875 63.1875 \r\nL 20.796875 26.90625 \r\nL 47.609375 26.90625 \r\nz\r\nM 28.609375 72.90625 \r\nL 39.796875 72.90625 \r\nL 67.578125 0 \r\nL 57.328125 0 \r\nL 50.6875 18.703125 \r\nL 17.828125 18.703125 \r\nL 11.1875 0 \r\nL 0.78125 0 \r\nz\r\n\" id=\"DejaVuSans-41\"/>\r\n      <path d=\"M 8.5 21.578125 \r\nL 8.5 54.6875 \r\nL 17.484375 54.6875 \r\nL 17.484375 21.921875 \r\nQ 17.484375 14.15625 20.5 10.265625 \r\nQ 23.53125 6.390625 29.59375 6.390625 \r\nQ 36.859375 6.390625 41.078125 11.03125 \r\nQ 45.3125 15.671875 45.3125 23.6875 \r\nL 45.3125 54.6875 \r\nL 54.296875 54.6875 \r\nL 54.296875 0 \r\nL 45.3125 0 \r\nL 45.3125 8.40625 \r\nQ 42.046875 3.421875 37.71875 1 \r\nQ 33.40625 -1.421875 27.6875 -1.421875 \r\nQ 18.265625 -1.421875 13.375 4.4375 \r\nQ 8.5 10.296875 8.5 21.578125 \r\nz\r\nM 31.109375 56 \r\nz\r\n\" id=\"DejaVuSans-75\"/>\r\n      <path d=\"M 41.109375 46.296875 \r\nQ 39.59375 47.171875 37.8125 47.578125 \r\nQ 36.03125 48 33.890625 48 \r\nQ 26.265625 48 22.1875 43.046875 \r\nQ 18.109375 38.09375 18.109375 28.8125 \r\nL 18.109375 0 \r\nL 9.078125 0 \r\nL 9.078125 54.6875 \r\nL 18.109375 54.6875 \r\nL 18.109375 46.1875 \r\nQ 20.953125 51.171875 25.484375 53.578125 \r\nQ 30.03125 56 36.53125 56 \r\nQ 37.453125 56 38.578125 55.875 \r\nQ 39.703125 55.765625 41.0625 55.515625 \r\nz\r\n\" id=\"DejaVuSans-72\"/>\r\n      <path d=\"M 34.28125 27.484375 \r\nQ 23.390625 27.484375 19.1875 25 \r\nQ 14.984375 22.515625 14.984375 16.5 \r\nQ 14.984375 11.71875 18.140625 8.90625 \r\nQ 21.296875 6.109375 26.703125 6.109375 \r\nQ 34.1875 6.109375 38.703125 11.40625 \r\nQ 43.21875 16.703125 43.21875 25.484375 \r\nL 43.21875 27.484375 \r\nz\r\nM 52.203125 31.203125 \r\nL 52.203125 0 \r\nL 43.21875 0 \r\nL 43.21875 8.296875 \r\nQ 40.140625 3.328125 35.546875 0.953125 \r\nQ 30.953125 -1.421875 24.3125 -1.421875 \r\nQ 15.921875 -1.421875 10.953125 3.296875 \r\nQ 6 8.015625 6 15.921875 \r\nQ 6 25.140625 12.171875 29.828125 \r\nQ 18.359375 34.515625 30.609375 34.515625 \r\nL 43.21875 34.515625 \r\nL 43.21875 35.40625 \r\nQ 43.21875 41.609375 39.140625 45 \r\nQ 35.0625 48.390625 27.6875 48.390625 \r\nQ 23 48.390625 18.546875 47.265625 \r\nQ 14.109375 46.140625 10.015625 43.890625 \r\nL 10.015625 52.203125 \r\nQ 14.9375 54.109375 19.578125 55.046875 \r\nQ 24.21875 56 28.609375 56 \r\nQ 40.484375 56 46.34375 49.84375 \r\nQ 52.203125 43.703125 52.203125 31.203125 \r\nz\r\n\" id=\"DejaVuSans-61\"/>\r\n      <path d=\"M 32.171875 -5.078125 \r\nQ 28.375 -14.84375 24.75 -17.8125 \r\nQ 21.140625 -20.796875 15.09375 -20.796875 \r\nL 7.90625 -20.796875 \r\nL 7.90625 -13.28125 \r\nL 13.1875 -13.28125 \r\nQ 16.890625 -13.28125 18.9375 -11.515625 \r\nQ 21 -9.765625 23.484375 -3.21875 \r\nL 25.09375 0.875 \r\nL 2.984375 54.6875 \r\nL 12.5 54.6875 \r\nL 29.59375 11.921875 \r\nL 46.6875 54.6875 \r\nL 56.203125 54.6875 \r\nz\r\n\" id=\"DejaVuSans-79\"/>\r\n     </defs>\r\n     <g transform=\"translate(14.798438 153.952969)rotate(-90)scale(0.1 -0.1)\">\r\n      <use xlink:href=\"#DejaVuSans-41\"/>\r\n      <use x=\"68.392578\" xlink:href=\"#DejaVuSans-63\"/>\r\n      <use x=\"123.373047\" xlink:href=\"#DejaVuSans-63\"/>\r\n      <use x=\"178.353516\" xlink:href=\"#DejaVuSans-75\"/>\r\n      <use x=\"241.732422\" xlink:href=\"#DejaVuSans-72\"/>\r\n      <use x=\"282.845703\" xlink:href=\"#DejaVuSans-61\"/>\r\n      <use x=\"344.125\" xlink:href=\"#DejaVuSans-63\"/>\r\n      <use x=\"399.105469\" xlink:href=\"#DejaVuSans-79\"/>\r\n     </g>\r\n    </g>\r\n   </g>\r\n   <g id=\"line2d_14\">\r\n    <path clip-path=\"url(#pb8733d100f)\" d=\"M 65.361932 229.874489 \r\nL 75.85723 220.640638 \r\nL 86.352527 156.003587 \r\nL 96.847825 93.045452 \r\nL 107.343123 78.774947 \r\nL 117.838421 89.687667 \r\nL 128.333719 82.132685 \r\nL 138.829016 82.132685 \r\nL 149.324314 80.453816 \r\nL 159.819612 77.935489 \r\nL 170.31491 84.651012 \r\nL 180.810208 84.651012 \r\nL 191.305505 75.417162 \r\nL 201.800803 74.577703 \r\nL 212.296101 82.132685 \r\nL 222.791399 68.701638 \r\nL 233.286697 72.898834 \r\nL 243.781995 71.219965 \r\nL 254.277292 68.701638 \r\nL 264.77259 60.307198 \r\nL 275.267888 67.022721 \r\nL 285.763186 57.788871 \r\nL 296.258484 61.146656 \r\nL 306.753781 64.504442 \r\nL 317.249079 65.343852 \r\nL 327.744377 63.664983 \r\nL 338.239675 62.825525 \r\nL 348.734973 67.86218 \r\nL 359.23027 61.146656 \r\nL 369.725568 60.307198 \r\n\" style=\"fill:none;stroke:#1f77b4;stroke-linecap:square;stroke-width:1.5;\"/>\r\n   </g>\r\n   <g id=\"line2d_15\">\r\n    <path clip-path=\"url(#pb8733d100f)\" d=\"M 65.361932 62.326618 \r\nL 75.85723 62.326618 \r\nL 86.352527 54.79538 \r\nL 96.847825 84.920284 \r\nL 107.343123 99.982713 \r\nL 117.838421 99.982713 \r\nL 128.333719 84.920284 \r\nL 138.829016 84.920284 \r\nL 149.324314 69.857856 \r\nL 159.819612 84.920284 \r\nL 170.31491 92.451522 \r\nL 180.810208 69.857856 \r\nL 191.305505 62.326618 \r\nL 201.800803 62.326618 \r\nL 212.296101 54.79538 \r\nL 222.791399 47.26419 \r\nL 233.286697 39.732952 \r\nL 243.781995 54.79538 \r\nL 254.277292 39.732952 \r\nL 264.77259 39.732952 \r\nL 275.267888 32.201761 \r\nL 285.763186 39.732952 \r\nL 296.258484 39.732952 \r\nL 306.753781 32.201761 \r\nL 317.249079 39.732952 \r\nL 327.744377 54.79538 \r\nL 338.239675 39.732952 \r\nL 348.734973 39.732952 \r\nL 359.23027 39.732952 \r\nL 369.725568 39.732952 \r\n\" style=\"fill:none;stroke:#ff7f0e;stroke-linecap:square;stroke-width:1.5;\"/>\r\n   </g>\r\n   <g id=\"patch_3\">\r\n    <path d=\"M 50.14375 239.758125 \r\nL 50.14375 22.318125 \r\n\" style=\"fill:none;stroke:#000000;stroke-linecap:square;stroke-linejoin:miter;stroke-width:0.8;\"/>\r\n   </g>\r\n   <g id=\"patch_4\">\r\n    <path d=\"M 384.94375 239.758125 \r\nL 384.94375 22.318125 \r\n\" style=\"fill:none;stroke:#000000;stroke-linecap:square;stroke-linejoin:miter;stroke-width:0.8;\"/>\r\n   </g>\r\n   <g id=\"patch_5\">\r\n    <path d=\"M 50.14375 239.758125 \r\nL 384.94375 239.758125 \r\n\" style=\"fill:none;stroke:#000000;stroke-linecap:square;stroke-linejoin:miter;stroke-width:0.8;\"/>\r\n   </g>\r\n   <g id=\"patch_6\">\r\n    <path d=\"M 50.14375 22.318125 \r\nL 384.94375 22.318125 \r\n\" style=\"fill:none;stroke:#000000;stroke-linecap:square;stroke-linejoin:miter;stroke-width:0.8;\"/>\r\n   </g>\r\n   <g id=\"text_16\">\r\n    <!-- Train History -->\r\n    <defs>\r\n     <path d=\"M -0.296875 72.90625 \r\nL 61.375 72.90625 \r\nL 61.375 64.59375 \r\nL 35.5 64.59375 \r\nL 35.5 0 \r\nL 25.59375 0 \r\nL 25.59375 64.59375 \r\nL -0.296875 64.59375 \r\nz\r\n\" id=\"DejaVuSans-54\"/>\r\n     <path d=\"M 9.421875 54.6875 \r\nL 18.40625 54.6875 \r\nL 18.40625 0 \r\nL 9.421875 0 \r\nz\r\nM 9.421875 75.984375 \r\nL 18.40625 75.984375 \r\nL 18.40625 64.59375 \r\nL 9.421875 64.59375 \r\nz\r\n\" id=\"DejaVuSans-69\"/>\r\n     <path d=\"M 54.890625 33.015625 \r\nL 54.890625 0 \r\nL 45.90625 0 \r\nL 45.90625 32.71875 \r\nQ 45.90625 40.484375 42.875 44.328125 \r\nQ 39.84375 48.1875 33.796875 48.1875 \r\nQ 26.515625 48.1875 22.3125 43.546875 \r\nQ 18.109375 38.921875 18.109375 30.90625 \r\nL 18.109375 0 \r\nL 9.078125 0 \r\nL 9.078125 54.6875 \r\nL 18.109375 54.6875 \r\nL 18.109375 46.1875 \r\nQ 21.34375 51.125 25.703125 53.5625 \r\nQ 30.078125 56 35.796875 56 \r\nQ 45.21875 56 50.046875 50.171875 \r\nQ 54.890625 44.34375 54.890625 33.015625 \r\nz\r\n\" id=\"DejaVuSans-6e\"/>\r\n     <path id=\"DejaVuSans-20\"/>\r\n     <path d=\"M 9.8125 72.90625 \r\nL 19.671875 72.90625 \r\nL 19.671875 43.015625 \r\nL 55.515625 43.015625 \r\nL 55.515625 72.90625 \r\nL 65.375 72.90625 \r\nL 65.375 0 \r\nL 55.515625 0 \r\nL 55.515625 34.71875 \r\nL 19.671875 34.71875 \r\nL 19.671875 0 \r\nL 9.8125 0 \r\nz\r\n\" id=\"DejaVuSans-48\"/>\r\n     <path d=\"M 18.3125 70.21875 \r\nL 18.3125 54.6875 \r\nL 36.8125 54.6875 \r\nL 36.8125 47.703125 \r\nL 18.3125 47.703125 \r\nL 18.3125 18.015625 \r\nQ 18.3125 11.328125 20.140625 9.421875 \r\nQ 21.96875 7.515625 27.59375 7.515625 \r\nL 36.8125 7.515625 \r\nL 36.8125 0 \r\nL 27.59375 0 \r\nQ 17.1875 0 13.234375 3.875 \r\nQ 9.28125 7.765625 9.28125 18.015625 \r\nL 9.28125 47.703125 \r\nL 2.6875 47.703125 \r\nL 2.6875 54.6875 \r\nL 9.28125 54.6875 \r\nL 9.28125 70.21875 \r\nz\r\n\" id=\"DejaVuSans-74\"/>\r\n    </defs>\r\n    <g transform=\"translate(179.026563 16.318125)scale(0.12 -0.12)\">\r\n     <use xlink:href=\"#DejaVuSans-54\"/>\r\n     <use x=\"60.865234\" xlink:href=\"#DejaVuSans-72\"/>\r\n     <use x=\"101.978516\" xlink:href=\"#DejaVuSans-61\"/>\r\n     <use x=\"163.257812\" xlink:href=\"#DejaVuSans-69\"/>\r\n     <use x=\"191.041016\" xlink:href=\"#DejaVuSans-6e\"/>\r\n     <use x=\"254.419922\" xlink:href=\"#DejaVuSans-20\"/>\r\n     <use x=\"286.207031\" xlink:href=\"#DejaVuSans-48\"/>\r\n     <use x=\"361.402344\" xlink:href=\"#DejaVuSans-69\"/>\r\n     <use x=\"389.185547\" xlink:href=\"#DejaVuSans-73\"/>\r\n     <use x=\"441.285156\" xlink:href=\"#DejaVuSans-74\"/>\r\n     <use x=\"480.494141\" xlink:href=\"#DejaVuSans-6f\"/>\r\n     <use x=\"541.675781\" xlink:href=\"#DejaVuSans-72\"/>\r\n     <use x=\"582.789062\" xlink:href=\"#DejaVuSans-79\"/>\r\n    </g>\r\n   </g>\r\n   <g id=\"legend_1\">\r\n    <g id=\"patch_7\">\r\n     <path d=\"M 57.14375 59.674375 \r\nL 138.378125 59.674375 \r\nQ 140.378125 59.674375 140.378125 57.674375 \r\nL 140.378125 29.318125 \r\nQ 140.378125 27.318125 138.378125 27.318125 \r\nL 57.14375 27.318125 \r\nQ 55.14375 27.318125 55.14375 29.318125 \r\nL 55.14375 57.674375 \r\nQ 55.14375 59.674375 57.14375 59.674375 \r\nz\r\n\" style=\"fill:#ffffff;opacity:0.8;stroke:#cccccc;stroke-linejoin:miter;\"/>\r\n    </g>\r\n    <g id=\"line2d_16\">\r\n     <path d=\"M 59.14375 35.416562 \r\nL 79.14375 35.416562 \r\n\" style=\"fill:none;stroke:#1f77b4;stroke-linecap:square;stroke-width:1.5;\"/>\r\n    </g>\r\n    <g id=\"line2d_17\"/>\r\n    <g id=\"text_17\">\r\n     <!-- train -->\r\n     <g transform=\"translate(87.14375 38.916562)scale(0.1 -0.1)\">\r\n      <use xlink:href=\"#DejaVuSans-74\"/>\r\n      <use x=\"39.208984\" xlink:href=\"#DejaVuSans-72\"/>\r\n      <use x=\"80.322266\" xlink:href=\"#DejaVuSans-61\"/>\r\n      <use x=\"141.601562\" xlink:href=\"#DejaVuSans-69\"/>\r\n      <use x=\"169.384766\" xlink:href=\"#DejaVuSans-6e\"/>\r\n     </g>\r\n    </g>\r\n    <g id=\"line2d_18\">\r\n     <path d=\"M 59.14375 50.094687 \r\nL 79.14375 50.094687 \r\n\" style=\"fill:none;stroke:#ff7f0e;stroke-linecap:square;stroke-width:1.5;\"/>\r\n    </g>\r\n    <g id=\"line2d_19\"/>\r\n    <g id=\"text_18\">\r\n     <!-- validation -->\r\n     <defs>\r\n      <path d=\"M 2.984375 54.6875 \r\nL 12.5 54.6875 \r\nL 29.59375 8.796875 \r\nL 46.6875 54.6875 \r\nL 56.203125 54.6875 \r\nL 35.6875 0 \r\nL 23.484375 0 \r\nz\r\n\" id=\"DejaVuSans-76\"/>\r\n      <path d=\"M 9.421875 75.984375 \r\nL 18.40625 75.984375 \r\nL 18.40625 0 \r\nL 9.421875 0 \r\nz\r\n\" id=\"DejaVuSans-6c\"/>\r\n      <path d=\"M 45.40625 46.390625 \r\nL 45.40625 75.984375 \r\nL 54.390625 75.984375 \r\nL 54.390625 0 \r\nL 45.40625 0 \r\nL 45.40625 8.203125 \r\nQ 42.578125 3.328125 38.25 0.953125 \r\nQ 33.9375 -1.421875 27.875 -1.421875 \r\nQ 17.96875 -1.421875 11.734375 6.484375 \r\nQ 5.515625 14.40625 5.515625 27.296875 \r\nQ 5.515625 40.1875 11.734375 48.09375 \r\nQ 17.96875 56 27.875 56 \r\nQ 33.9375 56 38.25 53.625 \r\nQ 42.578125 51.265625 45.40625 46.390625 \r\nz\r\nM 14.796875 27.296875 \r\nQ 14.796875 17.390625 18.875 11.75 \r\nQ 22.953125 6.109375 30.078125 6.109375 \r\nQ 37.203125 6.109375 41.296875 11.75 \r\nQ 45.40625 17.390625 45.40625 27.296875 \r\nQ 45.40625 37.203125 41.296875 42.84375 \r\nQ 37.203125 48.484375 30.078125 48.484375 \r\nQ 22.953125 48.484375 18.875 42.84375 \r\nQ 14.796875 37.203125 14.796875 27.296875 \r\nz\r\n\" id=\"DejaVuSans-64\"/>\r\n     </defs>\r\n     <g transform=\"translate(87.14375 53.594687)scale(0.1 -0.1)\">\r\n      <use xlink:href=\"#DejaVuSans-76\"/>\r\n      <use x=\"59.179688\" xlink:href=\"#DejaVuSans-61\"/>\r\n      <use x=\"120.458984\" xlink:href=\"#DejaVuSans-6c\"/>\r\n      <use x=\"148.242188\" xlink:href=\"#DejaVuSans-69\"/>\r\n      <use x=\"176.025391\" xlink:href=\"#DejaVuSans-64\"/>\r\n      <use x=\"239.501953\" xlink:href=\"#DejaVuSans-61\"/>\r\n      <use x=\"300.78125\" xlink:href=\"#DejaVuSans-74\"/>\r\n      <use x=\"339.990234\" xlink:href=\"#DejaVuSans-69\"/>\r\n      <use x=\"367.773438\" xlink:href=\"#DejaVuSans-6f\"/>\r\n      <use x=\"428.955078\" xlink:href=\"#DejaVuSans-6e\"/>\r\n     </g>\r\n    </g>\r\n   </g>\r\n  </g>\r\n </g>\r\n <defs>\r\n  <clipPath id=\"pb8733d100f\">\r\n   <rect height=\"217.44\" width=\"334.8\" x=\"50.14375\" y=\"22.318125\"/>\r\n  </clipPath>\r\n </defs>\r\n</svg>\r\n",
      "image/png": "[encoded data removed]",
      "text/plain": "<Figure size 432x288 with 1 Axes>"
     },
     "metadata": {}
    }
   ],
   "source": [
    "# 畫圖 \n",
    "olib.show_train_history(train_history)"
   ]
  },
  {
   "cell_type": "code",
   "execution_count": 28,
   "metadata": {},
   "outputs": [
    {
     "output_type": "stream",
     "name": "stdout",
     "text": [
      "8/8 [==============================] - 0s 1ms/step - loss: 0.4959 - accuracy: 0.7659\n",
      "accuracy= 0.7658730149269104\n"
     ]
    }
   ],
   "source": [
    "# 預測準確度\n",
    "scores = model.evaluate(test_features, test_label)\n",
    "print('accuracy=', scores[1])"
   ]
  },
  {
   "cell_type": "code",
   "execution_count": 29,
   "metadata": {},
   "outputs": [
    {
     "output_type": "execute_result",
     "data": {
      "text/html": "<div>\n<style scoped>\n    .dataframe tbody tr th:only-of-type {\n        vertical-align: middle;\n    }\n\n    .dataframe tbody tr th {\n        vertical-align: top;\n    }\n\n    .dataframe thead th {\n        text-align: right;\n    }\n</style>\n<table border=\"1\" class=\"dataframe\">\n  <thead>\n    <tr style=\"text-align: right;\">\n      <th></th>\n      <th>survived</th>\n      <th>pclass</th>\n      <th>sex</th>\n      <th>age</th>\n      <th>sibsp</th>\n      <th>parch</th>\n      <th>fare</th>\n      <th>embarked</th>\n    </tr>\n  </thead>\n  <tbody>\n    <tr>\n      <th>0</th>\n      <td>0</td>\n      <td>3</td>\n      <td>1</td>\n      <td>23</td>\n      <td>0</td>\n      <td>0</td>\n      <td>5.0</td>\n      <td>S</td>\n    </tr>\n    <tr>\n      <th>1</th>\n      <td>1</td>\n      <td>1</td>\n      <td>0</td>\n      <td>20</td>\n      <td>0</td>\n      <td>0</td>\n      <td>100.0</td>\n      <td>S</td>\n    </tr>\n  </tbody>\n</table>\n</div>",
      "text/plain": [
       "   survived  pclass  sex  age  sibsp  parch   fare embarked\n",
       "0         0       3    1   23      0      0    5.0        S\n",
       "1         1       1    0   20      0      0  100.0        S"
      ]
     },
     "metadata": {},
     "execution_count": 29
    }
   ],
   "source": [
    "# 拿電影中 Jack 與 Rose 並虛構資料看結果\n",
    "# Jack: 3 等艙, male(0), $5, 23 歲, Southampton 上船, 無其他同行者\n",
    "# Rose: 頭等艙, female(1), $100, 20 歲, Southampton 上船, 無其他同行者\n",
    "Jack = pd.Series([0, 3, 1, 23, 0, 0, 5.0, 'S'])\n",
    "Rose = pd.Series([1, 1, 0, 20, 0, 0, 100.0, 'S'])\n",
    "JR_df = pd.DataFrame(\n",
    "    [list(Jack), list(Rose)],\n",
    "    columns=[\n",
    "        'survived',\n",
    "        'pclass',\n",
    "        'sex',\n",
    "        'age',\n",
    "        'sibsp',\n",
    "        'parch',\n",
    "        'fare',\n",
    "        'embarked'\n",
    "    ])\n",
    "JR_df"
   ]
  },
  {
   "cell_type": "code",
   "execution_count": 30,
   "metadata": {},
   "outputs": [
    {
     "output_type": "execute_result",
     "data": {
      "text/html": "<div>\n<style scoped>\n    .dataframe tbody tr th:only-of-type {\n        vertical-align: middle;\n    }\n\n    .dataframe tbody tr th {\n        vertical-align: top;\n    }\n\n    .dataframe thead th {\n        text-align: right;\n    }\n</style>\n<table border=\"1\" class=\"dataframe\">\n  <thead>\n    <tr style=\"text-align: right;\">\n      <th></th>\n      <th>survived</th>\n      <th>pclass</th>\n      <th>sex</th>\n      <th>age</th>\n      <th>sibsp</th>\n      <th>parch</th>\n      <th>fare</th>\n      <th>embarked_C</th>\n      <th>embarked_Q</th>\n      <th>embarked_S</th>\n    </tr>\n  </thead>\n  <tbody>\n    <tr>\n      <th>0</th>\n      <td>0</td>\n      <td>3</td>\n      <td>1</td>\n      <td>23.0</td>\n      <td>0</td>\n      <td>0</td>\n      <td>5.0</td>\n      <td>0</td>\n      <td>0</td>\n      <td>1</td>\n    </tr>\n    <tr>\n      <th>1</th>\n      <td>1</td>\n      <td>1</td>\n      <td>0</td>\n      <td>20.0</td>\n      <td>0</td>\n      <td>0</td>\n      <td>100.0</td>\n      <td>0</td>\n      <td>0</td>\n      <td>1</td>\n    </tr>\n  </tbody>\n</table>\n</div>",
      "text/plain": [
       "   survived  pclass  sex   age  sibsp  parch   fare  embarked_C  embarked_Q  \\\n",
       "0         0       3    1  23.0      0      0    5.0           0           0   \n",
       "1         1       1    0  20.0      0      0  100.0           0           0   \n",
       "\n",
       "   embarked_S  \n",
       "0           1  \n",
       "1           1  "
      ]
     },
     "metadata": {},
     "execution_count": 30
    }
   ],
   "source": [
    "# 加入 all_df 並預處裡\n",
    "new_df = pd.concat([all_df, JR_df])\n",
    "new_OneHot_df = pd.get_dummies(data=new_df, columns=['embarked'])\n",
    "new_OneHot_df[-2:] #只看最後兩筆即可"
   ]
  },
  {
   "cell_type": "code",
   "execution_count": 31,
   "metadata": {},
   "outputs": [
    {
     "output_type": "execute_result",
     "data": {
      "text/plain": [
       "array([[1.        , 1.        , 0.28601223, 0.        , 0.        ,\n",
       "        0.00975935, 0.        , 0.        , 1.        ],\n",
       "       [0.        , 0.        , 0.24843392, 0.        , 0.        ,\n",
       "        0.195187  , 0.        , 0.        , 1.        ]])"
      ]
     },
     "metadata": {},
     "execution_count": 31
    }
   ],
   "source": [
    "# 標準化參數並取出最後兩筆\n",
    "new_ndarray = new_OneHot_df.values\n",
    "new_features = new_ndarray[:,1:]\n",
    "new_scaled_features = minmax_scale.fit_transform(new_features)\n",
    "JR_scaled_features = new_scaled_features[-2:]\n",
    "JR_scaled_features"
   ]
  },
  {
   "cell_type": "code",
   "execution_count": 32,
   "metadata": {},
   "outputs": [
    {
     "output_type": "execute_result",
     "data": {
      "text/plain": [
       "array([[0.13738497],\n",
       "       [0.97690445]], dtype=float32)"
      ]
     },
     "metadata": {},
     "execution_count": 32
    }
   ],
   "source": [
    "# 預測兩人存活機率\n",
    "# Jack 好慘...\n",
    "JR_probability = model.predict(JR_scaled_features)\n",
    "JR_probability"
   ]
  },
  {
   "cell_type": "code",
   "execution_count": 33,
   "metadata": {},
   "outputs": [
    {
     "output_type": "execute_result",
     "data": {
      "text/html": "<div>\n<style scoped>\n    .dataframe tbody tr th:only-of-type {\n        vertical-align: middle;\n    }\n\n    .dataframe tbody tr th {\n        vertical-align: top;\n    }\n\n    .dataframe thead th {\n        text-align: right;\n    }\n</style>\n<table border=\"1\" class=\"dataframe\">\n  <thead>\n    <tr style=\"text-align: right;\">\n      <th></th>\n      <th>survived</th>\n      <th>pclass</th>\n      <th>sex</th>\n      <th>age</th>\n      <th>sibsp</th>\n      <th>parch</th>\n      <th>fare</th>\n      <th>embarked</th>\n      <th>probability</th>\n    </tr>\n  </thead>\n  <tbody>\n    <tr>\n      <th>0</th>\n      <td>1</td>\n      <td>1</td>\n      <td>0</td>\n      <td>29.0000</td>\n      <td>0</td>\n      <td>0</td>\n      <td>211.3375</td>\n      <td>S</td>\n      <td>0.977798</td>\n    </tr>\n    <tr>\n      <th>1</th>\n      <td>1</td>\n      <td>1</td>\n      <td>1</td>\n      <td>0.9167</td>\n      <td>1</td>\n      <td>2</td>\n      <td>151.5500</td>\n      <td>S</td>\n      <td>0.698783</td>\n    </tr>\n    <tr>\n      <th>2</th>\n      <td>0</td>\n      <td>1</td>\n      <td>0</td>\n      <td>2.0000</td>\n      <td>1</td>\n      <td>2</td>\n      <td>151.5500</td>\n      <td>S</td>\n      <td>0.983986</td>\n    </tr>\n    <tr>\n      <th>3</th>\n      <td>0</td>\n      <td>1</td>\n      <td>1</td>\n      <td>30.0000</td>\n      <td>1</td>\n      <td>2</td>\n      <td>151.5500</td>\n      <td>S</td>\n      <td>0.440993</td>\n    </tr>\n    <tr>\n      <th>4</th>\n      <td>0</td>\n      <td>1</td>\n      <td>0</td>\n      <td>25.0000</td>\n      <td>1</td>\n      <td>2</td>\n      <td>151.5500</td>\n      <td>S</td>\n      <td>0.978430</td>\n    </tr>\n    <tr>\n      <th>5</th>\n      <td>1</td>\n      <td>1</td>\n      <td>1</td>\n      <td>48.0000</td>\n      <td>0</td>\n      <td>0</td>\n      <td>26.5500</td>\n      <td>S</td>\n      <td>0.233393</td>\n    </tr>\n    <tr>\n      <th>6</th>\n      <td>1</td>\n      <td>1</td>\n      <td>0</td>\n      <td>63.0000</td>\n      <td>1</td>\n      <td>0</td>\n      <td>77.9583</td>\n      <td>S</td>\n      <td>0.902440</td>\n    </tr>\n    <tr>\n      <th>7</th>\n      <td>0</td>\n      <td>1</td>\n      <td>1</td>\n      <td>39.0000</td>\n      <td>0</td>\n      <td>0</td>\n      <td>0.0000</td>\n      <td>S</td>\n      <td>0.292012</td>\n    </tr>\n    <tr>\n      <th>8</th>\n      <td>1</td>\n      <td>1</td>\n      <td>0</td>\n      <td>53.0000</td>\n      <td>2</td>\n      <td>0</td>\n      <td>51.4792</td>\n      <td>S</td>\n      <td>0.911502</td>\n    </tr>\n    <tr>\n      <th>9</th>\n      <td>0</td>\n      <td>1</td>\n      <td>1</td>\n      <td>71.0000</td>\n      <td>0</td>\n      <td>0</td>\n      <td>49.5042</td>\n      <td>C</td>\n      <td>0.197929</td>\n    </tr>\n  </tbody>\n</table>\n</div>",
      "text/plain": [
       "   survived  pclass  sex      age  sibsp  parch      fare embarked  \\\n",
       "0         1       1    0  29.0000      0      0  211.3375        S   \n",
       "1         1       1    1   0.9167      1      2  151.5500        S   \n",
       "2         0       1    0   2.0000      1      2  151.5500        S   \n",
       "3         0       1    1  30.0000      1      2  151.5500        S   \n",
       "4         0       1    0  25.0000      1      2  151.5500        S   \n",
       "5         1       1    1  48.0000      0      0   26.5500        S   \n",
       "6         1       1    0  63.0000      1      0   77.9583        S   \n",
       "7         0       1    1  39.0000      0      0    0.0000        S   \n",
       "8         1       1    0  53.0000      2      0   51.4792        S   \n",
       "9         0       1    1  71.0000      0      0   49.5042        C   \n",
       "\n",
       "   probability  \n",
       "0     0.977798  \n",
       "1     0.698783  \n",
       "2     0.983986  \n",
       "3     0.440993  \n",
       "4     0.978430  \n",
       "5     0.233393  \n",
       "6     0.902440  \n",
       "7     0.292012  \n",
       "8     0.911502  \n",
       "9     0.197929  "
      ]
     },
     "metadata": {},
     "execution_count": 33
    }
   ],
   "source": [
    "# 加入算好的存活率至原始資料\n",
    "all_probability = model.predict(scaled_features)\n",
    "all_df.insert(len(all_df.columns), 'probability', all_probability)\n",
    "all_df[:10]"
   ]
  },
  {
   "cell_type": "code",
   "execution_count": 34,
   "metadata": {},
   "outputs": [
    {
     "output_type": "execute_result",
     "data": {
      "text/html": "<div>\n<style scoped>\n    .dataframe tbody tr th:only-of-type {\n        vertical-align: middle;\n    }\n\n    .dataframe tbody tr th {\n        vertical-align: top;\n    }\n\n    .dataframe thead th {\n        text-align: right;\n    }\n</style>\n<table border=\"1\" class=\"dataframe\">\n  <thead>\n    <tr style=\"text-align: right;\">\n      <th></th>\n      <th>survived</th>\n      <th>pclass</th>\n      <th>sex</th>\n      <th>age</th>\n      <th>sibsp</th>\n      <th>parch</th>\n      <th>fare</th>\n      <th>embarked</th>\n      <th>probability</th>\n    </tr>\n  </thead>\n  <tbody>\n    <tr>\n      <th>2</th>\n      <td>0</td>\n      <td>1</td>\n      <td>0</td>\n      <td>2.0</td>\n      <td>1</td>\n      <td>2</td>\n      <td>151.5500</td>\n      <td>S</td>\n      <td>0.983986</td>\n    </tr>\n    <tr>\n      <th>4</th>\n      <td>0</td>\n      <td>1</td>\n      <td>0</td>\n      <td>25.0</td>\n      <td>1</td>\n      <td>2</td>\n      <td>151.5500</td>\n      <td>S</td>\n      <td>0.978430</td>\n    </tr>\n    <tr>\n      <th>105</th>\n      <td>0</td>\n      <td>1</td>\n      <td>0</td>\n      <td>36.0</td>\n      <td>0</td>\n      <td>0</td>\n      <td>31.6792</td>\n      <td>C</td>\n      <td>0.982765</td>\n    </tr>\n    <tr>\n      <th>169</th>\n      <td>0</td>\n      <td>1</td>\n      <td>0</td>\n      <td>50.0</td>\n      <td>0</td>\n      <td>0</td>\n      <td>28.7125</td>\n      <td>C</td>\n      <td>0.977770</td>\n    </tr>\n  </tbody>\n</table>\n</div>",
      "text/plain": [
       "     survived  pclass  sex   age  sibsp  parch      fare embarked  probability\n",
       "2           0       1    0   2.0      1      2  151.5500        S     0.983986\n",
       "4           0       1    0  25.0      1      2  151.5500        S     0.978430\n",
       "105         0       1    0  36.0      0      0   31.6792        C     0.982765\n",
       "169         0       1    0  50.0      0      0   28.7125        C     0.977770"
      ]
     },
     "metadata": {},
     "execution_count": 34
    }
   ],
   "source": [
    "# 檢視非洲人(高存活率但掛了)\n",
    "all_df[(all_df['survived'] == 0) & (all_df['probability'] > 0.95)]"
   ]
  },
  {
   "cell_type": "code",
   "execution_count": 37,
   "metadata": {},
   "outputs": [
    {
     "output_type": "execute_result",
     "data": {
      "text/html": "<div>\n<style scoped>\n    .dataframe tbody tr th:only-of-type {\n        vertical-align: middle;\n    }\n\n    .dataframe tbody tr th {\n        vertical-align: top;\n    }\n\n    .dataframe thead th {\n        text-align: right;\n    }\n</style>\n<table border=\"1\" class=\"dataframe\">\n  <thead>\n    <tr style=\"text-align: right;\">\n      <th></th>\n      <th>survived</th>\n      <th>pclass</th>\n      <th>sex</th>\n      <th>age</th>\n      <th>sibsp</th>\n      <th>parch</th>\n      <th>fare</th>\n      <th>embarked</th>\n      <th>probability</th>\n    </tr>\n  </thead>\n  <tbody>\n    <tr>\n      <th>742</th>\n      <td>1</td>\n      <td>3</td>\n      <td>1</td>\n      <td>45.000000</td>\n      <td>0</td>\n      <td>0</td>\n      <td>8.050</td>\n      <td>S</td>\n      <td>0.093472</td>\n    </tr>\n    <tr>\n      <th>1003</th>\n      <td>1</td>\n      <td>3</td>\n      <td>1</td>\n      <td>29.881135</td>\n      <td>2</td>\n      <td>0</td>\n      <td>23.250</td>\n      <td>Q</td>\n      <td>0.093883</td>\n    </tr>\n    <tr>\n      <th>1233</th>\n      <td>1</td>\n      <td>3</td>\n      <td>1</td>\n      <td>44.000000</td>\n      <td>0</td>\n      <td>0</td>\n      <td>7.925</td>\n      <td>S</td>\n      <td>0.095159</td>\n    </tr>\n  </tbody>\n</table>\n</div>",
      "text/plain": [
       "      survived  pclass  sex        age  sibsp  parch    fare embarked  \\\n",
       "742          1       3    1  45.000000      0      0   8.050        S   \n",
       "1003         1       3    1  29.881135      2      0  23.250        Q   \n",
       "1233         1       3    1  44.000000      0      0   7.925        S   \n",
       "\n",
       "      probability  \n",
       "742      0.093472  \n",
       "1003     0.093883  \n",
       "1233     0.095159  "
      ]
     },
     "metadata": {},
     "execution_count": 37
    }
   ],
   "source": [
    "# 檢視歐洲人(低存活率但生還)\n",
    "all_df[(all_df['survived'] == 1) & (all_df['probability'] < 0.1)]"
   ]
  },
  {
   "cell_type": "code",
   "execution_count": null,
   "metadata": {},
   "outputs": [],
   "source": []
  }
 ]
}