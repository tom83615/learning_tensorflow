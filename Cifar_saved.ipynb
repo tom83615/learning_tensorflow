{
 "metadata": {
  "language_info": {
   "codemirror_mode": {
    "name": "ipython",
    "version": 3
   },
   "file_extension": ".py",
   "mimetype": "text/x-python",
   "name": "python",
   "nbconvert_exporter": "python",
   "pygments_lexer": "ipython3",
   "version": "3.5.5-final"
  },
  "orig_nbformat": 2,
  "kernelspec": {
   "name": "python3",
   "display_name": "Python 3",
   "language": "python"
  }
 },
 "nbformat": 4,
 "nbformat_minor": 2,
 "cells": [
  {
   "cell_type": "code",
   "execution_count": 5,
   "metadata": {},
   "outputs": [],
   "source": [
    "# 綜合圖型辨識\n",
    "# by 已預存訓練模型\n",
    "import numpy as np\n",
    "from keras.datasets import cifar10\n",
    "import otherLib as olib\n",
    "np.random.seed(10) #fix random result"
   ]
  },
  {
   "cell_type": "code",
   "execution_count": 6,
   "metadata": {},
   "outputs": [
    {
     "output_type": "stream",
     "name": "stdout",
     "text": [
      "1 Physical GPUs, 1 Logical GPUs\n"
     ]
    }
   ],
   "source": [
    "# 載入其他函式庫\n",
    "import otherLib as olib\n",
    "olib.solve_cudnn_error() # 處理 GPU memory 分配"
   ]
  },
  {
   "cell_type": "code",
   "execution_count": 8,
   "metadata": {},
   "outputs": [],
   "source": [
    "# 下載資料集\n",
    "(x_train_image, y_train_label), (x_test_image,  y_test_label) = cifar10.load_data()"
   ]
  },
  {
   "cell_type": "code",
   "execution_count": 9,
   "metadata": {},
   "outputs": [],
   "source": [
    "# 標示 label 意義\n",
    "label_dict = {\n",
    "    0: \"airplane\",\n",
    "    1: \"automobile\",\n",
    "    2: \"bird\",\n",
    "    3: \"cat\",\n",
    "    4: \"deer\",\n",
    "    5: \"dog\",\n",
    "    6: \"frog\",\n",
    "    7: \"horse\",\n",
    "    8: \"ship\",\n",
    "    9: \"trunk\"\n",
    "}"
   ]
  },
  {
   "cell_type": "code",
   "execution_count": 10,
   "metadata": {},
   "outputs": [],
   "source": [
    "# 圖片標準化\n",
    "x_train_image_normalize = x_train_image.astype('float32') / 255.0\n",
    "x_test_image_normalize = x_test_image.astype('float32') / 255.0"
   ]
  },
  {
   "cell_type": "code",
   "execution_count": 11,
   "metadata": {},
   "outputs": [],
   "source": [
    "# 將標籤做成 One-hot encoding\n",
    "from keras.utils import np_utils\n",
    "y_train_oneHot = np_utils.to_categorical(y_train_label)\n",
    "y_test_oneHot  = np_utils.to_categorical(y_test_label) "
   ]
  },
  {
   "cell_type": "code",
   "execution_count": 21,
   "metadata": {},
   "outputs": [],
   "source": [
    "# 建立 CNN 模型 by 預存\n",
    "from keras.models import load_model\n",
    "from keras.layers import Dense, Dropout, Activation, Flatten\n",
    "from keras.layers import Conv2D, MaxPooling2D, ZeroPadding2D\n",
    "model = load_model(\"saveModel/Cifar\")"
   ]
  },
  {
   "cell_type": "code",
   "execution_count": 22,
   "metadata": {},
   "outputs": [
    {
     "output_type": "stream",
     "name": "stdout",
     "text": [
      "313/313 [==============================] - 1s 2ms/step - accuracy: 0.7121 - loss: 0.8708\n",
      "accuracy= 0.7121000289916992\n"
     ]
    }
   ],
   "source": [
    "# 預測準確度\n",
    "scores = model.evaluate(x_test_image_normalize, y_test_oneHot)\n",
    "print('accuracy=', scores[1])"
   ]
  },
  {
   "cell_type": "code",
   "execution_count": 23,
   "metadata": {},
   "outputs": [
    {
     "output_type": "execute_result",
     "data": {
      "text/plain": [
       "array([3, 8, 8, ..., 5, 4, 7], dtype=int64)"
      ]
     },
     "metadata": {},
     "execution_count": 23
    }
   ],
   "source": [
    "# 預測值\n",
    "prediction = np.argmax(model.predict(x_test_image_normalize), axis=-1)\n",
    "prediction"
   ]
  },
  {
   "cell_type": "code",
   "execution_count": 24,
   "metadata": {},
   "outputs": [
    {
     "output_type": "execute_result",
     "data": {
      "text/html": "<div>\n<style scoped>\n    .dataframe tbody tr th:only-of-type {\n        vertical-align: middle;\n    }\n\n    .dataframe tbody tr th {\n        vertical-align: top;\n    }\n\n    .dataframe thead th {\n        text-align: right;\n    }\n</style>\n<table border=\"1\" class=\"dataframe\">\n  <thead>\n    <tr style=\"text-align: right;\">\n      <th>prediction</th>\n      <th>0</th>\n      <th>1</th>\n      <th>2</th>\n      <th>3</th>\n      <th>4</th>\n      <th>5</th>\n      <th>6</th>\n      <th>7</th>\n      <th>8</th>\n      <th>9</th>\n    </tr>\n    <tr>\n      <th>label</th>\n      <th></th>\n      <th></th>\n      <th></th>\n      <th></th>\n      <th></th>\n      <th></th>\n      <th></th>\n      <th></th>\n      <th></th>\n      <th></th>\n    </tr>\n  </thead>\n  <tbody>\n    <tr>\n      <th>0</th>\n      <td>679</td>\n      <td>6</td>\n      <td>45</td>\n      <td>54</td>\n      <td>58</td>\n      <td>3</td>\n      <td>16</td>\n      <td>5</td>\n      <td>117</td>\n      <td>17</td>\n    </tr>\n    <tr>\n      <th>1</th>\n      <td>13</td>\n      <td>749</td>\n      <td>3</td>\n      <td>21</td>\n      <td>16</td>\n      <td>5</td>\n      <td>29</td>\n      <td>1</td>\n      <td>71</td>\n      <td>92</td>\n    </tr>\n    <tr>\n      <th>2</th>\n      <td>35</td>\n      <td>0</td>\n      <td>521</td>\n      <td>123</td>\n      <td>156</td>\n      <td>41</td>\n      <td>104</td>\n      <td>7</td>\n      <td>11</td>\n      <td>2</td>\n    </tr>\n    <tr>\n      <th>3</th>\n      <td>4</td>\n      <td>0</td>\n      <td>25</td>\n      <td>706</td>\n      <td>97</td>\n      <td>69</td>\n      <td>82</td>\n      <td>5</td>\n      <td>7</td>\n      <td>5</td>\n    </tr>\n    <tr>\n      <th>4</th>\n      <td>2</td>\n      <td>0</td>\n      <td>19</td>\n      <td>83</td>\n      <td>823</td>\n      <td>7</td>\n      <td>47</td>\n      <td>11</td>\n      <td>8</td>\n      <td>0</td>\n    </tr>\n    <tr>\n      <th>5</th>\n      <td>5</td>\n      <td>0</td>\n      <td>27</td>\n      <td>311</td>\n      <td>74</td>\n      <td>533</td>\n      <td>32</td>\n      <td>10</td>\n      <td>7</td>\n      <td>1</td>\n    </tr>\n    <tr>\n      <th>6</th>\n      <td>2</td>\n      <td>0</td>\n      <td>12</td>\n      <td>75</td>\n      <td>37</td>\n      <td>11</td>\n      <td>860</td>\n      <td>0</td>\n      <td>2</td>\n      <td>1</td>\n    </tr>\n    <tr>\n      <th>7</th>\n      <td>8</td>\n      <td>0</td>\n      <td>18</td>\n      <td>117</td>\n      <td>229</td>\n      <td>37</td>\n      <td>12</td>\n      <td>570</td>\n      <td>4</td>\n      <td>5</td>\n    </tr>\n    <tr>\n      <th>8</th>\n      <td>29</td>\n      <td>8</td>\n      <td>4</td>\n      <td>45</td>\n      <td>15</td>\n      <td>2</td>\n      <td>12</td>\n      <td>0</td>\n      <td>877</td>\n      <td>8</td>\n    </tr>\n    <tr>\n      <th>9</th>\n      <td>24</td>\n      <td>29</td>\n      <td>11</td>\n      <td>44</td>\n      <td>14</td>\n      <td>11</td>\n      <td>15</td>\n      <td>2</td>\n      <td>47</td>\n      <td>803</td>\n    </tr>\n  </tbody>\n</table>\n</div>",
      "text/plain": [
       "prediction    0    1    2    3    4    5    6    7    8    9\n",
       "label                                                       \n",
       "0           679    6   45   54   58    3   16    5  117   17\n",
       "1            13  749    3   21   16    5   29    1   71   92\n",
       "2            35    0  521  123  156   41  104    7   11    2\n",
       "3             4    0   25  706   97   69   82    5    7    5\n",
       "4             2    0   19   83  823    7   47   11    8    0\n",
       "5             5    0   27  311   74  533   32   10    7    1\n",
       "6             2    0   12   75   37   11  860    0    2    1\n",
       "7             8    0   18  117  229   37   12  570    4    5\n",
       "8            29    8    4   45   15    2   12    0  877    8\n",
       "9            24   29   11   44   14   11   15    2   47  803"
      ]
     },
     "metadata": {},
     "execution_count": 24
    }
   ],
   "source": [
    "# 建立混淆矩陣\n",
    "import pandas as pd\n",
    "pd.crosstab(\n",
    "    y_test_label.reshape(-1),\n",
    "    prediction,\n",
    "    rownames = ['label'],\n",
    "    colnames = ['prediction']\n",
    ")"
   ]
  },
  {
   "cell_type": "code",
   "execution_count": null,
   "metadata": {},
   "outputs": [],
   "source": []
  }
 ]
}