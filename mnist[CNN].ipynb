{
 "cells": [
  {
   "cell_type": "code",
   "execution_count": 1,
   "metadata": {},
   "outputs": [],
   "source": [
    "# 手寫數字辨識 (以 CNN 模型)\n",
    "import numpy as np\n",
    "import pandas as pd\n",
    "from keras.utils import np_utils\n",
    "from keras.datasets import mnist\n",
    "np.random.seed(10) #fix random result"
   ]
  },
  {
   "cell_type": "code",
   "execution_count": 2,
   "metadata": {},
   "outputs": [
    {
     "name": "stdout",
     "output_type": "stream",
     "text": [
      "1 Physical GPUs, 1 Logical GPUs\n"
     ]
    }
   ],
   "source": [
    "# 載入其他函式庫\n",
    "import otherLib as olib\n",
    "olib.solve_cudnn_error() # 處理 GPN memory 分配"
   ]
  },
  {
   "cell_type": "code",
   "execution_count": 3,
   "metadata": {},
   "outputs": [],
   "source": [
    "# 下載資料集\n",
    "(x_train_image, y_train_label), (x_test_image,  y_test_label) = mnist.load_data()"
   ]
  },
  {
   "cell_type": "code",
   "execution_count": 4,
   "metadata": {},
   "outputs": [],
   "source": [
    "# 將圖片binary data reshape 成 4 維矩陣(float)\n",
    "x_train_4D = x_train_image.reshape(x_train_image.shape[0], 28, 28, 1).astype('float32')\n",
    "x_test_4D  = x_test_image.reshape(x_test_image.shape[0], 28, 28, 1).astype('float32')"
   ]
  },
  {
   "cell_type": "code",
   "execution_count": 5,
   "metadata": {},
   "outputs": [],
   "source": [
    "# 圖片標準化 \n",
    "x_train_normalize = x_train_4D / 255\n",
    "x_test_normalize  = x_test_4D  / 255"
   ]
  },
  {
   "cell_type": "code",
   "execution_count": 6,
   "metadata": {},
   "outputs": [],
   "source": [
    "# 將標籤做成 One-hot encoding\n",
    "y_train_oneHot = np_utils.to_categorical(y_train_label)\n",
    "y_test_oneHot  = np_utils.to_categorical(y_test_label)"
   ]
  },
  {
   "cell_type": "code",
   "execution_count": 7,
   "metadata": {},
   "outputs": [],
   "source": [
    "# 建立 CNN 模型\n",
    "from keras.models import Sequential\n",
    "from keras.layers import Dense, Dropout, Flatten, Conv2D, MaxPooling2D\n",
    "model = Sequential()"
   ]
  },
  {
   "cell_type": "code",
   "execution_count": 8,
   "metadata": {},
   "outputs": [],
   "source": [
    "# 建立捲積層\n",
    "# filters: filters 數量 (16)\n",
    "# kernel_size: filters 大小(5*5)\n",
    "# padding: same(補齊周圍，捲積後大小不變)\n",
    "# input_shape: 輸入層大小 (28*28*1)\n",
    "# activation: 線性\n",
    "model.add(Conv2D(\n",
    "    filters = 16,\n",
    "    kernel_size = (5,5),\n",
    "    padding = 'same',\n",
    "    input_shape = (28, 28, 1),\n",
    "    activation = 'relu'\n",
    "))"
   ]
  },
  {
   "cell_type": "code",
   "execution_count": 9,
   "metadata": {},
   "outputs": [],
   "source": [
    "# 建立池化層\n",
    "# pool_size: 池化層大小 (2*2)\n",
    "model.add(MaxPooling2D(\n",
    "    pool_size = (2,2)\n",
    "))"
   ]
  },
  {
   "cell_type": "code",
   "execution_count": 10,
   "metadata": {},
   "outputs": [],
   "source": [
    "# 建立捲積層 2\n",
    "model.add(Conv2D(\n",
    "    filters = 36,\n",
    "    kernel_size = (5,5),\n",
    "    padding = 'same',\n",
    "    activation = 'relu'\n",
    "))"
   ]
  },
  {
   "cell_type": "code",
   "execution_count": 11,
   "metadata": {},
   "outputs": [],
   "source": [
    "# 建立池化層 2\n",
    "# pool_size: 池化層大小 (2*2)\n",
    "model.add(MaxPooling2D(\n",
    "    pool_size = (2,2)\n",
    "))"
   ]
  },
  {
   "cell_type": "code",
   "execution_count": 12,
   "metadata": {},
   "outputs": [],
   "source": [
    "# 建立 Dropout\n",
    "# 隨機放棄 25% 捲積結果\n",
    "model.add(Dropout(0.25))"
   ]
  },
  {
   "cell_type": "code",
   "execution_count": 13,
   "metadata": {},
   "outputs": [],
   "source": [
    "# 建立平坦層\n",
    "model.add(Flatten())"
   ]
  },
  {
   "cell_type": "code",
   "execution_count": 14,
   "metadata": {},
   "outputs": [],
   "source": [
    "# 建立隱藏層\n",
    "# units: 128 層\n",
    "# activation: 線性函數\n",
    "model.add(Dense(\n",
    "    units = 128,\n",
    "    activation = 'relu'\n",
    "    ))"
   ]
  },
  {
   "cell_type": "code",
   "execution_count": 15,
   "metadata": {},
   "outputs": [],
   "source": [
    "# 建立輸出層\n",
    "# units: 10 層\n",
    "# activation: softmax機率向量\n",
    "model.add(Dense(\n",
    "    units = 10,\n",
    "    activation = 'softmax'\n",
    "))"
   ]
  },
  {
   "cell_type": "code",
   "execution_count": 16,
   "metadata": {},
   "outputs": [
    {
     "name": "stdout",
     "output_type": "stream",
     "text": [
      "Model: \"sequential\"\n",
      "_________________________________________________________________\n",
      "Layer (type)                 Output Shape              Param #   \n",
      "=================================================================\n",
      "conv2d (Conv2D)              (None, 28, 28, 16)        416       \n",
      "_________________________________________________________________\n",
      "max_pooling2d (MaxPooling2D) (None, 14, 14, 16)        0         \n",
      "_________________________________________________________________\n",
      "conv2d_1 (Conv2D)            (None, 14, 14, 36)        14436     \n",
      "_________________________________________________________________\n",
      "max_pooling2d_1 (MaxPooling2 (None, 7, 7, 36)          0         \n",
      "_________________________________________________________________\n",
      "dropout (Dropout)            (None, 7, 7, 36)          0         \n",
      "_________________________________________________________________\n",
      "flatten (Flatten)            (None, 1764)              0         \n",
      "_________________________________________________________________\n",
      "dense (Dense)                (None, 128)               225920    \n",
      "_________________________________________________________________\n",
      "dense_1 (Dense)              (None, 10)                1290      \n",
      "=================================================================\n",
      "Total params: 242,062\n",
      "Trainable params: 242,062\n",
      "Non-trainable params: 0\n",
      "_________________________________________________________________\n",
      "None\n"
     ]
    }
   ],
   "source": [
    "# 顯示剛建立之模型\n",
    "# 輸入 28*28，取樣 28*28 做 16 個\n",
    "# 池化 (28*28) * (2*2) => (14*14)\n",
    "# 上層 28*28 16 個，取樣 14*14 做 36 個\n",
    "# 再次池化 (14*14) * (2*2) => (7*7)\n",
    "# 平坦化 14*14*7 = 1764\n",
    "# 225920 = 1764*128 + 128\n",
    "# 1290 = 128*10 + 10\n",
    "print(model.summary())"
   ]
  },
  {
   "cell_type": "code",
   "execution_count": 17,
   "metadata": {},
   "outputs": [],
   "source": [
    "# 定義訓練方法\n",
    "# loss: categorical_crossentropy 交叉熵\n",
    "# optimizer: adam\n",
    "# metrics: accuracy 準確率\n",
    "model.compile(\n",
    "    loss = 'categorical_crossentropy',\n",
    "    optimizer = 'adam',\n",
    "    metrics = ['accuracy']\n",
    ")"
   ]
  },
  {
   "cell_type": "code",
   "execution_count": 18,
   "metadata": {},
   "outputs": [
    {
     "name": "stdout",
     "output_type": "stream",
     "text": [
      "Epoch 1/10\n",
      "  1/160 [..............................] - ETA: 0s - accuracy: 0.1400 - loss: 2.2980WARNING:tensorflow:Callbacks method `on_train_batch_end` is slow compared to the batch time (batch time: 0.0010s vs `on_train_batch_end` time: 0.0049s). Check your callbacks.\n",
      "160/160 [==============================] - ETA: 0s - accuracy: 0.8855 - loss: 0.3961WARNING:tensorflow:Callbacks method `on_test_batch_end` is slow compared to the batch time (batch time: 0.0010s vs `on_test_batch_end` time: 0.0020s). Check your callbacks.\n",
      "160/160 [==============================] - 1s 7ms/step - accuracy: 0.8855 - loss: 0.3961 - val_accuracy: 0.9686 - val_loss: 0.1056\n",
      "Epoch 2/10\n",
      "160/160 [==============================] - 1s 6ms/step - accuracy: 0.9710 - loss: 0.0943 - val_accuracy: 0.9808 - val_loss: 0.0624\n",
      "Epoch 3/10\n",
      "160/160 [==============================] - 1s 6ms/step - accuracy: 0.9797 - loss: 0.0644 - val_accuracy: 0.9843 - val_loss: 0.0515\n",
      "Epoch 4/10\n",
      "160/160 [==============================] - 1s 6ms/step - accuracy: 0.9838 - loss: 0.0516 - val_accuracy: 0.9858 - val_loss: 0.0452\n",
      "Epoch 5/10\n",
      "160/160 [==============================] - 1s 6ms/step - accuracy: 0.9874 - loss: 0.0412 - val_accuracy: 0.9879 - val_loss: 0.0390\n",
      "Epoch 6/10\n",
      "160/160 [==============================] - 1s 6ms/step - accuracy: 0.9882 - loss: 0.0353 - val_accuracy: 0.9893 - val_loss: 0.0369\n",
      "Epoch 7/10\n",
      "160/160 [==============================] - 1s 6ms/step - accuracy: 0.9905 - loss: 0.0304 - val_accuracy: 0.9889 - val_loss: 0.0381\n",
      "Epoch 8/10\n",
      "160/160 [==============================] - 1s 6ms/step - accuracy: 0.9918 - loss: 0.0257 - val_accuracy: 0.9896 - val_loss: 0.0358\n",
      "Epoch 9/10\n",
      "160/160 [==============================] - 1s 6ms/step - accuracy: 0.9925 - loss: 0.0228 - val_accuracy: 0.9899 - val_loss: 0.0366\n",
      "Epoch 10/10\n",
      "160/160 [==============================] - 1s 6ms/step - accuracy: 0.9928 - loss: 0.0211 - val_accuracy: 0.9891 - val_loss: 0.0400\n"
     ]
    }
   ],
   "source": [
    "# 開始訓練\n",
    "# x,y: 輸入值\n",
    "# validation_split: 0.2 資料作驗證； 0.8做訓練\n",
    "# epochs: 10 次\n",
    "# batch_size: 300 筆\n",
    "train_history = model.fit(\n",
    "    x = x_train_normalize,\n",
    "    y = y_train_oneHot,\n",
    "    validation_split = 0.2,\n",
    "    epochs = 10,\n",
    "    batch_size = 300\n",
    ")\n",
    "# loss, accuracy: 訓練資料(0.8)的 loss 與準確度\n",
    "# val_loss, val_accuracy: 驗證資料(0.2)的 loss 與準確度"
   ]
  },
  {
   "cell_type": "code",
   "execution_count": 19,
   "metadata": {},
   "outputs": [
    {
     "data": {
      "image/png": "[encoded data removed]",
      "text/plain": [
       "<Figure size 432x288 with 1 Axes>"
      ]
     },
     "metadata": {},
     "output_type": "display_data"
    }
   ],
   "source": [
    "# 畫圖 \n",
    "import matplotlib.pyplot as plt\n",
    "plt.plot(train_history.history['accuracy'])\n",
    "plt.plot(train_history.history['val_accuracy'])\n",
    "plt.title('Train History')\n",
    "plt.xlabel('Epochs')\n",
    "plt.ylabel('Accuracy')\n",
    "plt.legend(['train', 'validation'], loc='upper left')\n",
    "plt.show()"
   ]
  },
  {
   "cell_type": "code",
   "execution_count": 20,
   "metadata": {},
   "outputs": [
    {
     "name": "stdout",
     "output_type": "stream",
     "text": [
      "313/313 [==============================] - 1s 2ms/step - accuracy: 0.9912 - loss: 0.0267\n",
      "\n",
      "accuracy= 0.9911999702453613\n"
     ]
    }
   ],
   "source": [
    "# 預測準確度\n",
    "scores = model.evaluate(x_test_normalize, y_test_oneHot)\n",
    "print()\n",
    "print('accuracy=', scores[1])"
   ]
  },
  {
   "cell_type": "code",
   "execution_count": 21,
   "metadata": {},
   "outputs": [
    {
     "data": {
      "text/plain": [
       "array([7, 2, 1, ..., 4, 5, 6], dtype=int64)"
      ]
     },
     "execution_count": 21,
     "metadata": {},
     "output_type": "execute_result"
    }
   ],
   "source": [
    "# 預測值\n",
    "prediction = np.argmax(model.predict(x_test_normalize), axis=-1)\n",
    "prediction"
   ]
  },
  {
   "cell_type": "code",
   "execution_count": 22,
   "metadata": {},
   "outputs": [
    {
     "data": {
      "image/png": "[encoded data removed]",
      "text/plain": [
       "<Figure size 864x1008 with 25 Axes>"
      ]
     },
     "metadata": {},
     "output_type": "display_data"
    }
   ],
   "source": [
    "# 預測結果\n",
    "olib.plot_prediction(x_test_image, y_test_label, prediction, 0)"
   ]
  },
  {
   "cell_type": "code",
   "execution_count": 23,
   "metadata": {},
   "outputs": [
    {
     "data": {
      "text/html": [
       "<div>\n",
       "<style scoped>\n",
       "    .dataframe tbody tr th:only-of-type {\n",
       "        vertical-align: middle;\n",
       "    }\n",
       "\n",
       "    .dataframe tbody tr th {\n",
       "        vertical-align: top;\n",
       "    }\n",
       "\n",
       "    .dataframe thead th {\n",
       "        text-align: right;\n",
       "    }\n",
       "</style>\n",
       "<table border=\"1\" class=\"dataframe\">\n",
       "  <thead>\n",
       "    <tr style=\"text-align: right;\">\n",
       "      <th>prediction</th>\n",
       "      <th>0</th>\n",
       "      <th>1</th>\n",
       "      <th>2</th>\n",
       "      <th>3</th>\n",
       "      <th>4</th>\n",
       "      <th>5</th>\n",
       "      <th>6</th>\n",
       "      <th>7</th>\n",
       "      <th>8</th>\n",
       "      <th>9</th>\n",
       "    </tr>\n",
       "    <tr>\n",
       "      <th>label</th>\n",
       "      <th></th>\n",
       "      <th></th>\n",
       "      <th></th>\n",
       "      <th></th>\n",
       "      <th></th>\n",
       "      <th></th>\n",
       "      <th></th>\n",
       "      <th></th>\n",
       "      <th></th>\n",
       "      <th></th>\n",
       "    </tr>\n",
       "  </thead>\n",
       "  <tbody>\n",
       "    <tr>\n",
       "      <th>0</th>\n",
       "      <td>978</td>\n",
       "      <td>0</td>\n",
       "      <td>0</td>\n",
       "      <td>0</td>\n",
       "      <td>0</td>\n",
       "      <td>0</td>\n",
       "      <td>1</td>\n",
       "      <td>1</td>\n",
       "      <td>0</td>\n",
       "      <td>0</td>\n",
       "    </tr>\n",
       "    <tr>\n",
       "      <th>1</th>\n",
       "      <td>0</td>\n",
       "      <td>1132</td>\n",
       "      <td>1</td>\n",
       "      <td>0</td>\n",
       "      <td>0</td>\n",
       "      <td>0</td>\n",
       "      <td>1</td>\n",
       "      <td>1</td>\n",
       "      <td>0</td>\n",
       "      <td>0</td>\n",
       "    </tr>\n",
       "    <tr>\n",
       "      <th>2</th>\n",
       "      <td>3</td>\n",
       "      <td>4</td>\n",
       "      <td>1023</td>\n",
       "      <td>0</td>\n",
       "      <td>0</td>\n",
       "      <td>0</td>\n",
       "      <td>0</td>\n",
       "      <td>1</td>\n",
       "      <td>1</td>\n",
       "      <td>0</td>\n",
       "    </tr>\n",
       "    <tr>\n",
       "      <th>3</th>\n",
       "      <td>1</td>\n",
       "      <td>0</td>\n",
       "      <td>1</td>\n",
       "      <td>1006</td>\n",
       "      <td>0</td>\n",
       "      <td>2</td>\n",
       "      <td>0</td>\n",
       "      <td>0</td>\n",
       "      <td>0</td>\n",
       "      <td>0</td>\n",
       "    </tr>\n",
       "    <tr>\n",
       "      <th>4</th>\n",
       "      <td>0</td>\n",
       "      <td>0</td>\n",
       "      <td>0</td>\n",
       "      <td>0</td>\n",
       "      <td>979</td>\n",
       "      <td>0</td>\n",
       "      <td>0</td>\n",
       "      <td>0</td>\n",
       "      <td>1</td>\n",
       "      <td>2</td>\n",
       "    </tr>\n",
       "    <tr>\n",
       "      <th>5</th>\n",
       "      <td>2</td>\n",
       "      <td>0</td>\n",
       "      <td>0</td>\n",
       "      <td>6</td>\n",
       "      <td>0</td>\n",
       "      <td>875</td>\n",
       "      <td>6</td>\n",
       "      <td>1</td>\n",
       "      <td>0</td>\n",
       "      <td>2</td>\n",
       "    </tr>\n",
       "    <tr>\n",
       "      <th>6</th>\n",
       "      <td>2</td>\n",
       "      <td>2</td>\n",
       "      <td>0</td>\n",
       "      <td>0</td>\n",
       "      <td>1</td>\n",
       "      <td>1</td>\n",
       "      <td>951</td>\n",
       "      <td>0</td>\n",
       "      <td>1</td>\n",
       "      <td>0</td>\n",
       "    </tr>\n",
       "    <tr>\n",
       "      <th>7</th>\n",
       "      <td>0</td>\n",
       "      <td>3</td>\n",
       "      <td>5</td>\n",
       "      <td>1</td>\n",
       "      <td>0</td>\n",
       "      <td>0</td>\n",
       "      <td>0</td>\n",
       "      <td>1018</td>\n",
       "      <td>1</td>\n",
       "      <td>0</td>\n",
       "    </tr>\n",
       "    <tr>\n",
       "      <th>8</th>\n",
       "      <td>3</td>\n",
       "      <td>0</td>\n",
       "      <td>1</td>\n",
       "      <td>1</td>\n",
       "      <td>1</td>\n",
       "      <td>1</td>\n",
       "      <td>2</td>\n",
       "      <td>1</td>\n",
       "      <td>960</td>\n",
       "      <td>4</td>\n",
       "    </tr>\n",
       "    <tr>\n",
       "      <th>9</th>\n",
       "      <td>2</td>\n",
       "      <td>4</td>\n",
       "      <td>1</td>\n",
       "      <td>0</td>\n",
       "      <td>5</td>\n",
       "      <td>1</td>\n",
       "      <td>0</td>\n",
       "      <td>5</td>\n",
       "      <td>1</td>\n",
       "      <td>990</td>\n",
       "    </tr>\n",
       "  </tbody>\n",
       "</table>\n",
       "</div>"
      ],
      "text/plain": [
       "prediction    0     1     2     3    4    5    6     7    8    9\n",
       "label                                                           \n",
       "0           978     0     0     0    0    0    1     1    0    0\n",
       "1             0  1132     1     0    0    0    1     1    0    0\n",
       "2             3     4  1023     0    0    0    0     1    1    0\n",
       "3             1     0     1  1006    0    2    0     0    0    0\n",
       "4             0     0     0     0  979    0    0     0    1    2\n",
       "5             2     0     0     6    0  875    6     1    0    2\n",
       "6             2     2     0     0    1    1  951     0    1    0\n",
       "7             0     3     5     1    0    0    0  1018    1    0\n",
       "8             3     0     1     1    1    1    2     1  960    4\n",
       "9             2     4     1     0    5    1    0     5    1  990"
      ]
     },
     "execution_count": 23,
     "metadata": {},
     "output_type": "execute_result"
    }
   ],
   "source": [
    "# 建立混淆矩陣\n",
    "pd.crosstab(\n",
    "    y_test_label,\n",
    "    prediction,\n",
    "    rownames = ['label'],\n",
    "    colnames = ['prediction']\n",
    ")"
   ]
  },
  {
   "cell_type": "code",
   "execution_count": null,
   "metadata": {},
   "outputs": [],
   "source": []
  }
 ],
 "metadata": {
  "kernelspec": {
   "display_name": "Python 3",
   "language": "python",
   "name": "python3"
  },
  "language_info": {
   "codemirror_mode": {
    "name": "ipython",
    "version": 3
   },
   "file_extension": ".py",
   "mimetype": "text/x-python",
   "name": "python",
   "nbconvert_exporter": "python",
   "pygments_lexer": "ipython3",
   "version": "3.5.5"
  }
 },
 "nbformat": 4,
 "nbformat_minor": 2
}
